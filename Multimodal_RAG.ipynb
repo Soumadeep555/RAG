{
  "nbformat": 4,
  "nbformat_minor": 0,
  "metadata": {
    "colab": {
      "provenance": [],
      "gpuType": "T4",
      "mount_file_id": "1fH83ZNPZb3A7K1YETet2qk1CwHmGCJuT",
      "authorship_tag": "ABX9TyOqWyNYzPRuwGSk5vWQyIHH",
      "include_colab_link": true
    },
    "kernelspec": {
      "name": "python3",
      "display_name": "Python 3"
    },
    "language_info": {
      "name": "python"
    },
    "accelerator": "GPU",
    "widgets": {
      "application/vnd.jupyter.widget-state+json": {
        "43c89bbd28a545029a303dfe28fd5f2d": {
          "model_module": "@jupyter-widgets/controls",
          "model_name": "HBoxModel",
          "model_module_version": "1.5.0",
          "state": {
            "_dom_classes": [],
            "_model_module": "@jupyter-widgets/controls",
            "_model_module_version": "1.5.0",
            "_model_name": "HBoxModel",
            "_view_count": null,
            "_view_module": "@jupyter-widgets/controls",
            "_view_module_version": "1.5.0",
            "_view_name": "HBoxView",
            "box_style": "",
            "children": [
              "IPY_MODEL_5db7456229364627b0deda97ce3ea7b7",
              "IPY_MODEL_56fbadd3a4504376a47293aa33f7fd93",
              "IPY_MODEL_2332ebc85de04fab8e566bbdd78a9f47"
            ],
            "layout": "IPY_MODEL_2f6be3e827524b378ee9d77534bd5c05"
          }
        },
        "5db7456229364627b0deda97ce3ea7b7": {
          "model_module": "@jupyter-widgets/controls",
          "model_name": "HTMLModel",
          "model_module_version": "1.5.0",
          "state": {
            "_dom_classes": [],
            "_model_module": "@jupyter-widgets/controls",
            "_model_module_version": "1.5.0",
            "_model_name": "HTMLModel",
            "_view_count": null,
            "_view_module": "@jupyter-widgets/controls",
            "_view_module_version": "1.5.0",
            "_view_name": "HTMLView",
            "description": "",
            "description_tooltip": null,
            "layout": "IPY_MODEL_9f6605911eb9452b9445f4ad504da81a",
            "placeholder": "​",
            "style": "IPY_MODEL_1b7e17374b3f4143883bb927c2a87a88",
            "value": "yolox_l0.05.onnx: 100%"
          }
        },
        "56fbadd3a4504376a47293aa33f7fd93": {
          "model_module": "@jupyter-widgets/controls",
          "model_name": "FloatProgressModel",
          "model_module_version": "1.5.0",
          "state": {
            "_dom_classes": [],
            "_model_module": "@jupyter-widgets/controls",
            "_model_module_version": "1.5.0",
            "_model_name": "FloatProgressModel",
            "_view_count": null,
            "_view_module": "@jupyter-widgets/controls",
            "_view_module_version": "1.5.0",
            "_view_name": "ProgressView",
            "bar_style": "success",
            "description": "",
            "description_tooltip": null,
            "layout": "IPY_MODEL_04a1999e5b6e4e559bd6658ca90f4e87",
            "max": 216625723,
            "min": 0,
            "orientation": "horizontal",
            "style": "IPY_MODEL_cd0390d7a8564ab9b804f05106956b5f",
            "value": 216625723
          }
        },
        "2332ebc85de04fab8e566bbdd78a9f47": {
          "model_module": "@jupyter-widgets/controls",
          "model_name": "HTMLModel",
          "model_module_version": "1.5.0",
          "state": {
            "_dom_classes": [],
            "_model_module": "@jupyter-widgets/controls",
            "_model_module_version": "1.5.0",
            "_model_name": "HTMLModel",
            "_view_count": null,
            "_view_module": "@jupyter-widgets/controls",
            "_view_module_version": "1.5.0",
            "_view_name": "HTMLView",
            "description": "",
            "description_tooltip": null,
            "layout": "IPY_MODEL_e90f5341a22f457c88abbcd0a5aca302",
            "placeholder": "​",
            "style": "IPY_MODEL_31d8fb4269a0406187bc2c99575b9a7d",
            "value": " 217M/217M [00:01&lt;00:00, 208MB/s]"
          }
        },
        "2f6be3e827524b378ee9d77534bd5c05": {
          "model_module": "@jupyter-widgets/base",
          "model_name": "LayoutModel",
          "model_module_version": "1.2.0",
          "state": {
            "_model_module": "@jupyter-widgets/base",
            "_model_module_version": "1.2.0",
            "_model_name": "LayoutModel",
            "_view_count": null,
            "_view_module": "@jupyter-widgets/base",
            "_view_module_version": "1.2.0",
            "_view_name": "LayoutView",
            "align_content": null,
            "align_items": null,
            "align_self": null,
            "border": null,
            "bottom": null,
            "display": null,
            "flex": null,
            "flex_flow": null,
            "grid_area": null,
            "grid_auto_columns": null,
            "grid_auto_flow": null,
            "grid_auto_rows": null,
            "grid_column": null,
            "grid_gap": null,
            "grid_row": null,
            "grid_template_areas": null,
            "grid_template_columns": null,
            "grid_template_rows": null,
            "height": null,
            "justify_content": null,
            "justify_items": null,
            "left": null,
            "margin": null,
            "max_height": null,
            "max_width": null,
            "min_height": null,
            "min_width": null,
            "object_fit": null,
            "object_position": null,
            "order": null,
            "overflow": null,
            "overflow_x": null,
            "overflow_y": null,
            "padding": null,
            "right": null,
            "top": null,
            "visibility": null,
            "width": null
          }
        },
        "9f6605911eb9452b9445f4ad504da81a": {
          "model_module": "@jupyter-widgets/base",
          "model_name": "LayoutModel",
          "model_module_version": "1.2.0",
          "state": {
            "_model_module": "@jupyter-widgets/base",
            "_model_module_version": "1.2.0",
            "_model_name": "LayoutModel",
            "_view_count": null,
            "_view_module": "@jupyter-widgets/base",
            "_view_module_version": "1.2.0",
            "_view_name": "LayoutView",
            "align_content": null,
            "align_items": null,
            "align_self": null,
            "border": null,
            "bottom": null,
            "display": null,
            "flex": null,
            "flex_flow": null,
            "grid_area": null,
            "grid_auto_columns": null,
            "grid_auto_flow": null,
            "grid_auto_rows": null,
            "grid_column": null,
            "grid_gap": null,
            "grid_row": null,
            "grid_template_areas": null,
            "grid_template_columns": null,
            "grid_template_rows": null,
            "height": null,
            "justify_content": null,
            "justify_items": null,
            "left": null,
            "margin": null,
            "max_height": null,
            "max_width": null,
            "min_height": null,
            "min_width": null,
            "object_fit": null,
            "object_position": null,
            "order": null,
            "overflow": null,
            "overflow_x": null,
            "overflow_y": null,
            "padding": null,
            "right": null,
            "top": null,
            "visibility": null,
            "width": null
          }
        },
        "1b7e17374b3f4143883bb927c2a87a88": {
          "model_module": "@jupyter-widgets/controls",
          "model_name": "DescriptionStyleModel",
          "model_module_version": "1.5.0",
          "state": {
            "_model_module": "@jupyter-widgets/controls",
            "_model_module_version": "1.5.0",
            "_model_name": "DescriptionStyleModel",
            "_view_count": null,
            "_view_module": "@jupyter-widgets/base",
            "_view_module_version": "1.2.0",
            "_view_name": "StyleView",
            "description_width": ""
          }
        },
        "04a1999e5b6e4e559bd6658ca90f4e87": {
          "model_module": "@jupyter-widgets/base",
          "model_name": "LayoutModel",
          "model_module_version": "1.2.0",
          "state": {
            "_model_module": "@jupyter-widgets/base",
            "_model_module_version": "1.2.0",
            "_model_name": "LayoutModel",
            "_view_count": null,
            "_view_module": "@jupyter-widgets/base",
            "_view_module_version": "1.2.0",
            "_view_name": "LayoutView",
            "align_content": null,
            "align_items": null,
            "align_self": null,
            "border": null,
            "bottom": null,
            "display": null,
            "flex": null,
            "flex_flow": null,
            "grid_area": null,
            "grid_auto_columns": null,
            "grid_auto_flow": null,
            "grid_auto_rows": null,
            "grid_column": null,
            "grid_gap": null,
            "grid_row": null,
            "grid_template_areas": null,
            "grid_template_columns": null,
            "grid_template_rows": null,
            "height": null,
            "justify_content": null,
            "justify_items": null,
            "left": null,
            "margin": null,
            "max_height": null,
            "max_width": null,
            "min_height": null,
            "min_width": null,
            "object_fit": null,
            "object_position": null,
            "order": null,
            "overflow": null,
            "overflow_x": null,
            "overflow_y": null,
            "padding": null,
            "right": null,
            "top": null,
            "visibility": null,
            "width": null
          }
        },
        "cd0390d7a8564ab9b804f05106956b5f": {
          "model_module": "@jupyter-widgets/controls",
          "model_name": "ProgressStyleModel",
          "model_module_version": "1.5.0",
          "state": {
            "_model_module": "@jupyter-widgets/controls",
            "_model_module_version": "1.5.0",
            "_model_name": "ProgressStyleModel",
            "_view_count": null,
            "_view_module": "@jupyter-widgets/base",
            "_view_module_version": "1.2.0",
            "_view_name": "StyleView",
            "bar_color": null,
            "description_width": ""
          }
        },
        "e90f5341a22f457c88abbcd0a5aca302": {
          "model_module": "@jupyter-widgets/base",
          "model_name": "LayoutModel",
          "model_module_version": "1.2.0",
          "state": {
            "_model_module": "@jupyter-widgets/base",
            "_model_module_version": "1.2.0",
            "_model_name": "LayoutModel",
            "_view_count": null,
            "_view_module": "@jupyter-widgets/base",
            "_view_module_version": "1.2.0",
            "_view_name": "LayoutView",
            "align_content": null,
            "align_items": null,
            "align_self": null,
            "border": null,
            "bottom": null,
            "display": null,
            "flex": null,
            "flex_flow": null,
            "grid_area": null,
            "grid_auto_columns": null,
            "grid_auto_flow": null,
            "grid_auto_rows": null,
            "grid_column": null,
            "grid_gap": null,
            "grid_row": null,
            "grid_template_areas": null,
            "grid_template_columns": null,
            "grid_template_rows": null,
            "height": null,
            "justify_content": null,
            "justify_items": null,
            "left": null,
            "margin": null,
            "max_height": null,
            "max_width": null,
            "min_height": null,
            "min_width": null,
            "object_fit": null,
            "object_position": null,
            "order": null,
            "overflow": null,
            "overflow_x": null,
            "overflow_y": null,
            "padding": null,
            "right": null,
            "top": null,
            "visibility": null,
            "width": null
          }
        },
        "31d8fb4269a0406187bc2c99575b9a7d": {
          "model_module": "@jupyter-widgets/controls",
          "model_name": "DescriptionStyleModel",
          "model_module_version": "1.5.0",
          "state": {
            "_model_module": "@jupyter-widgets/controls",
            "_model_module_version": "1.5.0",
            "_model_name": "DescriptionStyleModel",
            "_view_count": null,
            "_view_module": "@jupyter-widgets/base",
            "_view_module_version": "1.2.0",
            "_view_name": "StyleView",
            "description_width": ""
          }
        }
      }
    }
  },
  "cells": [
    {
      "cell_type": "markdown",
      "metadata": {
        "id": "view-in-github",
        "colab_type": "text"
      },
      "source": [
        "<a href=\"https://colab.research.google.com/github/Soumadeep555/RAG/blob/main/Multimodal_RAG.ipynb\" target=\"_parent\"><img src=\"https://colab.research.google.com/assets/colab-badge.svg\" alt=\"Open In Colab\"/></a>"
      ]
    },
    {
      "cell_type": "markdown",
      "source": [
        "## Install the required libraries:"
      ],
      "metadata": {
        "id": "M4MkOFDQYcxm"
      }
    },
    {
      "cell_type": "code",
      "execution_count": 1,
      "metadata": {
        "colab": {
          "base_uri": "https://localhost:8080/"
        },
        "id": "tH78Kx4BQETK",
        "outputId": "d41ed62b-91a4-4f34-c215-06dc4eff3ecf"
      },
      "outputs": [
        {
          "output_type": "stream",
          "name": "stdout",
          "text": [
            "Requirement already satisfied: pillow in /usr/local/lib/python3.11/dist-packages (11.2.1)\n",
            "Requirement already satisfied: pydantic in /usr/local/lib/python3.11/dist-packages (2.11.7)\n",
            "Requirement already satisfied: lxml in /usr/local/lib/python3.11/dist-packages (5.4.0)\n",
            "Requirement already satisfied: matplotlib in /usr/local/lib/python3.11/dist-packages (3.10.0)\n",
            "Requirement already satisfied: unstructured[all-docs] in /usr/local/lib/python3.11/dist-packages (0.18.3)\n",
            "Requirement already satisfied: chardet in /usr/local/lib/python3.11/dist-packages (from unstructured[all-docs]) (5.2.0)\n",
            "Requirement already satisfied: filetype in /usr/local/lib/python3.11/dist-packages (from unstructured[all-docs]) (1.2.0)\n",
            "Requirement already satisfied: python-magic in /usr/local/lib/python3.11/dist-packages (from unstructured[all-docs]) (0.4.27)\n",
            "Requirement already satisfied: nltk in /usr/local/lib/python3.11/dist-packages (from unstructured[all-docs]) (3.9.1)\n",
            "Requirement already satisfied: requests in /usr/local/lib/python3.11/dist-packages (from unstructured[all-docs]) (2.32.3)\n",
            "Requirement already satisfied: beautifulsoup4 in /usr/local/lib/python3.11/dist-packages (from unstructured[all-docs]) (4.13.4)\n",
            "Requirement already satisfied: emoji in /usr/local/lib/python3.11/dist-packages (from unstructured[all-docs]) (2.14.1)\n",
            "Requirement already satisfied: dataclasses-json in /usr/local/lib/python3.11/dist-packages (from unstructured[all-docs]) (0.6.7)\n",
            "Requirement already satisfied: python-iso639 in /usr/local/lib/python3.11/dist-packages (from unstructured[all-docs]) (2025.2.18)\n",
            "Requirement already satisfied: langdetect in /usr/local/lib/python3.11/dist-packages (from unstructured[all-docs]) (1.0.9)\n",
            "Requirement already satisfied: numpy in /usr/local/lib/python3.11/dist-packages (from unstructured[all-docs]) (2.0.2)\n",
            "Requirement already satisfied: rapidfuzz in /usr/local/lib/python3.11/dist-packages (from unstructured[all-docs]) (3.13.0)\n",
            "Requirement already satisfied: backoff in /usr/local/lib/python3.11/dist-packages (from unstructured[all-docs]) (2.2.1)\n",
            "Requirement already satisfied: typing-extensions in /usr/local/lib/python3.11/dist-packages (from unstructured[all-docs]) (4.14.0)\n",
            "Requirement already satisfied: unstructured-client in /usr/local/lib/python3.11/dist-packages (from unstructured[all-docs]) (0.38.1)\n",
            "Requirement already satisfied: wrapt in /usr/local/lib/python3.11/dist-packages (from unstructured[all-docs]) (1.17.2)\n",
            "Requirement already satisfied: tqdm in /usr/local/lib/python3.11/dist-packages (from unstructured[all-docs]) (4.67.1)\n",
            "Requirement already satisfied: psutil in /usr/local/lib/python3.11/dist-packages (from unstructured[all-docs]) (5.9.5)\n",
            "Requirement already satisfied: python-oxmsg in /usr/local/lib/python3.11/dist-packages (from unstructured[all-docs]) (0.0.2)\n",
            "Requirement already satisfied: html5lib in /usr/local/lib/python3.11/dist-packages (from unstructured[all-docs]) (1.1)\n",
            "Requirement already satisfied: markdown in /usr/local/lib/python3.11/dist-packages (from unstructured[all-docs]) (3.8.2)\n",
            "Requirement already satisfied: pikepdf in /usr/local/lib/python3.11/dist-packages (from unstructured[all-docs]) (9.9.0)\n",
            "Requirement already satisfied: google-cloud-vision in /usr/local/lib/python3.11/dist-packages (from unstructured[all-docs]) (3.10.2)\n",
            "Requirement already satisfied: python-docx>=1.1.2 in /usr/local/lib/python3.11/dist-packages (from unstructured[all-docs]) (1.2.0)\n",
            "Requirement already satisfied: pi-heif in /usr/local/lib/python3.11/dist-packages (from unstructured[all-docs]) (1.0.0)\n",
            "Requirement already satisfied: pdf2image in /usr/local/lib/python3.11/dist-packages (from unstructured[all-docs]) (1.17.0)\n",
            "Requirement already satisfied: pdfminer.six in /usr/local/lib/python3.11/dist-packages (from unstructured[all-docs]) (20250506)\n",
            "Requirement already satisfied: xlrd in /usr/local/lib/python3.11/dist-packages (from unstructured[all-docs]) (2.0.2)\n",
            "Requirement already satisfied: pypandoc in /usr/local/lib/python3.11/dist-packages (from unstructured[all-docs]) (1.15)\n",
            "Requirement already satisfied: onnxruntime>=1.19.0 in /usr/local/lib/python3.11/dist-packages (from unstructured[all-docs]) (1.22.0)\n",
            "Requirement already satisfied: networkx in /usr/local/lib/python3.11/dist-packages (from unstructured[all-docs]) (3.5)\n",
            "Requirement already satisfied: python-pptx>=1.0.1 in /usr/local/lib/python3.11/dist-packages (from unstructured[all-docs]) (1.0.2)\n",
            "Requirement already satisfied: pypdf in /usr/local/lib/python3.11/dist-packages (from unstructured[all-docs]) (5.7.0)\n",
            "Requirement already satisfied: effdet in /usr/local/lib/python3.11/dist-packages (from unstructured[all-docs]) (0.4.1)\n",
            "Requirement already satisfied: openpyxl in /usr/local/lib/python3.11/dist-packages (from unstructured[all-docs]) (3.1.5)\n",
            "Requirement already satisfied: pandas in /usr/local/lib/python3.11/dist-packages (from unstructured[all-docs]) (2.2.2)\n",
            "Requirement already satisfied: onnx>=1.17.0 in /usr/local/lib/python3.11/dist-packages (from unstructured[all-docs]) (1.18.0)\n",
            "Requirement already satisfied: unstructured-inference>=1.0.5 in /usr/local/lib/python3.11/dist-packages (from unstructured[all-docs]) (1.0.5)\n",
            "Requirement already satisfied: unstructured.pytesseract>=0.3.12 in /usr/local/lib/python3.11/dist-packages (from unstructured[all-docs]) (0.3.15)\n",
            "Requirement already satisfied: annotated-types>=0.6.0 in /usr/local/lib/python3.11/dist-packages (from pydantic) (0.7.0)\n",
            "Requirement already satisfied: pydantic-core==2.33.2 in /usr/local/lib/python3.11/dist-packages (from pydantic) (2.33.2)\n",
            "Requirement already satisfied: typing-inspection>=0.4.0 in /usr/local/lib/python3.11/dist-packages (from pydantic) (0.4.1)\n",
            "Requirement already satisfied: contourpy>=1.0.1 in /usr/local/lib/python3.11/dist-packages (from matplotlib) (1.3.2)\n",
            "Requirement already satisfied: cycler>=0.10 in /usr/local/lib/python3.11/dist-packages (from matplotlib) (0.12.1)\n",
            "Requirement already satisfied: fonttools>=4.22.0 in /usr/local/lib/python3.11/dist-packages (from matplotlib) (4.58.4)\n",
            "Requirement already satisfied: kiwisolver>=1.3.1 in /usr/local/lib/python3.11/dist-packages (from matplotlib) (1.4.8)\n",
            "Requirement already satisfied: packaging>=20.0 in /usr/local/lib/python3.11/dist-packages (from matplotlib) (24.2)\n",
            "Requirement already satisfied: pyparsing>=2.3.1 in /usr/local/lib/python3.11/dist-packages (from matplotlib) (3.2.3)\n",
            "Requirement already satisfied: python-dateutil>=2.7 in /usr/local/lib/python3.11/dist-packages (from matplotlib) (2.9.0.post0)\n",
            "Requirement already satisfied: protobuf>=4.25.1 in /usr/local/lib/python3.11/dist-packages (from onnx>=1.17.0->unstructured[all-docs]) (5.29.5)\n",
            "Requirement already satisfied: coloredlogs in /usr/local/lib/python3.11/dist-packages (from onnxruntime>=1.19.0->unstructured[all-docs]) (15.0.1)\n",
            "Requirement already satisfied: flatbuffers in /usr/local/lib/python3.11/dist-packages (from onnxruntime>=1.19.0->unstructured[all-docs]) (25.2.10)\n",
            "Requirement already satisfied: sympy in /usr/local/lib/python3.11/dist-packages (from onnxruntime>=1.19.0->unstructured[all-docs]) (1.13.1)\n",
            "Requirement already satisfied: six>=1.5 in /usr/local/lib/python3.11/dist-packages (from python-dateutil>=2.7->matplotlib) (1.17.0)\n",
            "Requirement already satisfied: XlsxWriter>=0.5.7 in /usr/local/lib/python3.11/dist-packages (from python-pptx>=1.0.1->unstructured[all-docs]) (3.2.5)\n",
            "Requirement already satisfied: python-multipart in /usr/local/lib/python3.11/dist-packages (from unstructured-inference>=1.0.5->unstructured[all-docs]) (0.0.20)\n",
            "Requirement already satisfied: huggingface-hub in /usr/local/lib/python3.11/dist-packages (from unstructured-inference>=1.0.5->unstructured[all-docs]) (0.33.1)\n",
            "Requirement already satisfied: opencv-python!=4.7.0.68 in /usr/local/lib/python3.11/dist-packages (from unstructured-inference>=1.0.5->unstructured[all-docs]) (4.11.0.86)\n",
            "Requirement already satisfied: torch in /usr/local/lib/python3.11/dist-packages (from unstructured-inference>=1.0.5->unstructured[all-docs]) (2.6.0+cu124)\n",
            "Requirement already satisfied: timm in /usr/local/lib/python3.11/dist-packages (from unstructured-inference>=1.0.5->unstructured[all-docs]) (1.0.16)\n",
            "Requirement already satisfied: transformers>=4.25.1 in /usr/local/lib/python3.11/dist-packages (from unstructured-inference>=1.0.5->unstructured[all-docs]) (4.53.0)\n",
            "Requirement already satisfied: accelerate in /usr/local/lib/python3.11/dist-packages (from unstructured-inference>=1.0.5->unstructured[all-docs]) (1.8.1)\n",
            "Requirement already satisfied: scipy in /usr/local/lib/python3.11/dist-packages (from unstructured-inference>=1.0.5->unstructured[all-docs]) (1.15.3)\n",
            "Requirement already satisfied: pypdfium2 in /usr/local/lib/python3.11/dist-packages (from unstructured-inference>=1.0.5->unstructured[all-docs]) (4.30.1)\n",
            "Requirement already satisfied: soupsieve>1.2 in /usr/local/lib/python3.11/dist-packages (from beautifulsoup4->unstructured[all-docs]) (2.7)\n",
            "Requirement already satisfied: marshmallow<4.0.0,>=3.18.0 in /usr/local/lib/python3.11/dist-packages (from dataclasses-json->unstructured[all-docs]) (3.26.1)\n",
            "Requirement already satisfied: typing-inspect<1,>=0.4.0 in /usr/local/lib/python3.11/dist-packages (from dataclasses-json->unstructured[all-docs]) (0.9.0)\n",
            "Requirement already satisfied: torchvision in /usr/local/lib/python3.11/dist-packages (from effdet->unstructured[all-docs]) (0.21.0+cu124)\n",
            "Requirement already satisfied: pycocotools>=2.0.2 in /usr/local/lib/python3.11/dist-packages (from effdet->unstructured[all-docs]) (2.0.10)\n",
            "Requirement already satisfied: omegaconf>=2.0 in /usr/local/lib/python3.11/dist-packages (from effdet->unstructured[all-docs]) (2.3.0)\n",
            "Requirement already satisfied: google-api-core!=2.0.*,!=2.1.*,!=2.10.*,!=2.2.*,!=2.3.*,!=2.4.*,!=2.5.*,!=2.6.*,!=2.7.*,!=2.8.*,!=2.9.*,<3.0.0,>=1.34.1 in /usr/local/lib/python3.11/dist-packages (from google-api-core[grpc]!=2.0.*,!=2.1.*,!=2.10.*,!=2.2.*,!=2.3.*,!=2.4.*,!=2.5.*,!=2.6.*,!=2.7.*,!=2.8.*,!=2.9.*,<3.0.0,>=1.34.1->google-cloud-vision->unstructured[all-docs]) (2.25.1)\n",
            "Requirement already satisfied: google-auth!=2.24.0,!=2.25.0,<3.0.0,>=2.14.1 in /usr/local/lib/python3.11/dist-packages (from google-cloud-vision->unstructured[all-docs]) (2.38.0)\n",
            "Requirement already satisfied: proto-plus<2.0.0,>=1.22.3 in /usr/local/lib/python3.11/dist-packages (from google-cloud-vision->unstructured[all-docs]) (1.26.1)\n",
            "Requirement already satisfied: webencodings in /usr/local/lib/python3.11/dist-packages (from html5lib->unstructured[all-docs]) (0.5.1)\n",
            "Requirement already satisfied: click in /usr/local/lib/python3.11/dist-packages (from nltk->unstructured[all-docs]) (8.2.1)\n",
            "Requirement already satisfied: joblib in /usr/local/lib/python3.11/dist-packages (from nltk->unstructured[all-docs]) (1.5.1)\n",
            "Requirement already satisfied: regex>=2021.8.3 in /usr/local/lib/python3.11/dist-packages (from nltk->unstructured[all-docs]) (2024.11.6)\n",
            "Requirement already satisfied: et-xmlfile in /usr/local/lib/python3.11/dist-packages (from openpyxl->unstructured[all-docs]) (2.0.0)\n",
            "Requirement already satisfied: pytz>=2020.1 in /usr/local/lib/python3.11/dist-packages (from pandas->unstructured[all-docs]) (2025.2)\n",
            "Requirement already satisfied: tzdata>=2022.7 in /usr/local/lib/python3.11/dist-packages (from pandas->unstructured[all-docs]) (2025.2)\n",
            "Requirement already satisfied: charset-normalizer>=2.0.0 in /usr/local/lib/python3.11/dist-packages (from pdfminer.six->unstructured[all-docs]) (3.4.2)\n",
            "Requirement already satisfied: cryptography>=36.0.0 in /usr/local/lib/python3.11/dist-packages (from pdfminer.six->unstructured[all-docs]) (43.0.3)\n",
            "Requirement already satisfied: Deprecated in /usr/local/lib/python3.11/dist-packages (from pikepdf->unstructured[all-docs]) (1.2.18)\n",
            "Requirement already satisfied: olefile in /usr/local/lib/python3.11/dist-packages (from python-oxmsg->unstructured[all-docs]) (0.47)\n",
            "Requirement already satisfied: idna<4,>=2.5 in /usr/local/lib/python3.11/dist-packages (from requests->unstructured[all-docs]) (3.10)\n",
            "Requirement already satisfied: urllib3<3,>=1.21.1 in /usr/local/lib/python3.11/dist-packages (from requests->unstructured[all-docs]) (2.4.0)\n",
            "Requirement already satisfied: certifi>=2017.4.17 in /usr/local/lib/python3.11/dist-packages (from requests->unstructured[all-docs]) (2025.6.15)\n",
            "Requirement already satisfied: aiofiles>=24.1.0 in /usr/local/lib/python3.11/dist-packages (from unstructured-client->unstructured[all-docs]) (24.1.0)\n",
            "Requirement already satisfied: httpx>=0.27.0 in /usr/local/lib/python3.11/dist-packages (from unstructured-client->unstructured[all-docs]) (0.28.1)\n",
            "Requirement already satisfied: nest-asyncio>=1.6.0 in /usr/local/lib/python3.11/dist-packages (from unstructured-client->unstructured[all-docs]) (1.6.0)\n",
            "Requirement already satisfied: requests-toolbelt>=1.0.0 in /usr/local/lib/python3.11/dist-packages (from unstructured-client->unstructured[all-docs]) (1.0.0)\n",
            "Requirement already satisfied: cffi>=1.12 in /usr/local/lib/python3.11/dist-packages (from cryptography>=36.0.0->pdfminer.six->unstructured[all-docs]) (1.17.1)\n",
            "Requirement already satisfied: googleapis-common-protos<2.0.0,>=1.56.2 in /usr/local/lib/python3.11/dist-packages (from google-api-core!=2.0.*,!=2.1.*,!=2.10.*,!=2.2.*,!=2.3.*,!=2.4.*,!=2.5.*,!=2.6.*,!=2.7.*,!=2.8.*,!=2.9.*,<3.0.0,>=1.34.1->google-api-core[grpc]!=2.0.*,!=2.1.*,!=2.10.*,!=2.2.*,!=2.3.*,!=2.4.*,!=2.5.*,!=2.6.*,!=2.7.*,!=2.8.*,!=2.9.*,<3.0.0,>=1.34.1->google-cloud-vision->unstructured[all-docs]) (1.70.0)\n",
            "Requirement already satisfied: grpcio<2.0.0,>=1.33.2 in /usr/local/lib/python3.11/dist-packages (from google-api-core[grpc]!=2.0.*,!=2.1.*,!=2.10.*,!=2.2.*,!=2.3.*,!=2.4.*,!=2.5.*,!=2.6.*,!=2.7.*,!=2.8.*,!=2.9.*,<3.0.0,>=1.34.1->google-cloud-vision->unstructured[all-docs]) (1.73.1)\n",
            "Requirement already satisfied: grpcio-status<2.0.0,>=1.33.2 in /usr/local/lib/python3.11/dist-packages (from google-api-core[grpc]!=2.0.*,!=2.1.*,!=2.10.*,!=2.2.*,!=2.3.*,!=2.4.*,!=2.5.*,!=2.6.*,!=2.7.*,!=2.8.*,!=2.9.*,<3.0.0,>=1.34.1->google-cloud-vision->unstructured[all-docs]) (1.71.2)\n",
            "Requirement already satisfied: cachetools<6.0,>=2.0.0 in /usr/local/lib/python3.11/dist-packages (from google-auth!=2.24.0,!=2.25.0,<3.0.0,>=2.14.1->google-cloud-vision->unstructured[all-docs]) (5.5.2)\n",
            "Requirement already satisfied: pyasn1-modules>=0.2.1 in /usr/local/lib/python3.11/dist-packages (from google-auth!=2.24.0,!=2.25.0,<3.0.0,>=2.14.1->google-cloud-vision->unstructured[all-docs]) (0.4.2)\n",
            "Requirement already satisfied: rsa<5,>=3.1.4 in /usr/local/lib/python3.11/dist-packages (from google-auth!=2.24.0,!=2.25.0,<3.0.0,>=2.14.1->google-cloud-vision->unstructured[all-docs]) (4.9.1)\n",
            "Requirement already satisfied: anyio in /usr/local/lib/python3.11/dist-packages (from httpx>=0.27.0->unstructured-client->unstructured[all-docs]) (4.9.0)\n",
            "Requirement already satisfied: httpcore==1.* in /usr/local/lib/python3.11/dist-packages (from httpx>=0.27.0->unstructured-client->unstructured[all-docs]) (1.0.9)\n",
            "Requirement already satisfied: h11>=0.16 in /usr/local/lib/python3.11/dist-packages (from httpcore==1.*->httpx>=0.27.0->unstructured-client->unstructured[all-docs]) (0.16.0)\n",
            "Requirement already satisfied: antlr4-python3-runtime==4.9.* in /usr/local/lib/python3.11/dist-packages (from omegaconf>=2.0->effdet->unstructured[all-docs]) (4.9.3)\n",
            "Requirement already satisfied: PyYAML>=5.1.0 in /usr/local/lib/python3.11/dist-packages (from omegaconf>=2.0->effdet->unstructured[all-docs]) (6.0.2)\n",
            "Requirement already satisfied: safetensors in /usr/local/lib/python3.11/dist-packages (from timm->unstructured-inference>=1.0.5->unstructured[all-docs]) (0.5.3)\n",
            "Requirement already satisfied: filelock in /usr/local/lib/python3.11/dist-packages (from torch->unstructured-inference>=1.0.5->unstructured[all-docs]) (3.18.0)\n",
            "Requirement already satisfied: jinja2 in /usr/local/lib/python3.11/dist-packages (from torch->unstructured-inference>=1.0.5->unstructured[all-docs]) (3.1.6)\n",
            "Requirement already satisfied: fsspec in /usr/local/lib/python3.11/dist-packages (from torch->unstructured-inference>=1.0.5->unstructured[all-docs]) (2025.3.2)\n",
            "Requirement already satisfied: nvidia-cuda-nvrtc-cu12==12.4.127 in /usr/local/lib/python3.11/dist-packages (from torch->unstructured-inference>=1.0.5->unstructured[all-docs]) (12.4.127)\n",
            "Requirement already satisfied: nvidia-cuda-runtime-cu12==12.4.127 in /usr/local/lib/python3.11/dist-packages (from torch->unstructured-inference>=1.0.5->unstructured[all-docs]) (12.4.127)\n",
            "Requirement already satisfied: nvidia-cuda-cupti-cu12==12.4.127 in /usr/local/lib/python3.11/dist-packages (from torch->unstructured-inference>=1.0.5->unstructured[all-docs]) (12.4.127)\n",
            "Requirement already satisfied: nvidia-cudnn-cu12==9.1.0.70 in /usr/local/lib/python3.11/dist-packages (from torch->unstructured-inference>=1.0.5->unstructured[all-docs]) (9.1.0.70)\n",
            "Requirement already satisfied: nvidia-cublas-cu12==12.4.5.8 in /usr/local/lib/python3.11/dist-packages (from torch->unstructured-inference>=1.0.5->unstructured[all-docs]) (12.4.5.8)\n",
            "Requirement already satisfied: nvidia-cufft-cu12==11.2.1.3 in /usr/local/lib/python3.11/dist-packages (from torch->unstructured-inference>=1.0.5->unstructured[all-docs]) (11.2.1.3)\n",
            "Requirement already satisfied: nvidia-curand-cu12==10.3.5.147 in /usr/local/lib/python3.11/dist-packages (from torch->unstructured-inference>=1.0.5->unstructured[all-docs]) (10.3.5.147)\n",
            "Requirement already satisfied: nvidia-cusolver-cu12==11.6.1.9 in /usr/local/lib/python3.11/dist-packages (from torch->unstructured-inference>=1.0.5->unstructured[all-docs]) (11.6.1.9)\n",
            "Requirement already satisfied: nvidia-cusparse-cu12==12.3.1.170 in /usr/local/lib/python3.11/dist-packages (from torch->unstructured-inference>=1.0.5->unstructured[all-docs]) (12.3.1.170)\n",
            "Requirement already satisfied: nvidia-cusparselt-cu12==0.6.2 in /usr/local/lib/python3.11/dist-packages (from torch->unstructured-inference>=1.0.5->unstructured[all-docs]) (0.6.2)\n",
            "Requirement already satisfied: nvidia-nccl-cu12==2.21.5 in /usr/local/lib/python3.11/dist-packages (from torch->unstructured-inference>=1.0.5->unstructured[all-docs]) (2.21.5)\n",
            "Requirement already satisfied: nvidia-nvtx-cu12==12.4.127 in /usr/local/lib/python3.11/dist-packages (from torch->unstructured-inference>=1.0.5->unstructured[all-docs]) (12.4.127)\n",
            "Requirement already satisfied: nvidia-nvjitlink-cu12==12.4.127 in /usr/local/lib/python3.11/dist-packages (from torch->unstructured-inference>=1.0.5->unstructured[all-docs]) (12.4.127)\n",
            "Requirement already satisfied: triton==3.2.0 in /usr/local/lib/python3.11/dist-packages (from torch->unstructured-inference>=1.0.5->unstructured[all-docs]) (3.2.0)\n",
            "Requirement already satisfied: mpmath<1.4,>=1.1.0 in /usr/local/lib/python3.11/dist-packages (from sympy->onnxruntime>=1.19.0->unstructured[all-docs]) (1.3.0)\n",
            "Requirement already satisfied: tokenizers<0.22,>=0.21 in /usr/local/lib/python3.11/dist-packages (from transformers>=4.25.1->unstructured-inference>=1.0.5->unstructured[all-docs]) (0.21.2)\n",
            "Requirement already satisfied: hf-xet<2.0.0,>=1.1.2 in /usr/local/lib/python3.11/dist-packages (from huggingface-hub->unstructured-inference>=1.0.5->unstructured[all-docs]) (1.1.5)\n",
            "Requirement already satisfied: mypy-extensions>=0.3.0 in /usr/local/lib/python3.11/dist-packages (from typing-inspect<1,>=0.4.0->dataclasses-json->unstructured[all-docs]) (1.1.0)\n",
            "Requirement already satisfied: humanfriendly>=9.1 in /usr/local/lib/python3.11/dist-packages (from coloredlogs->onnxruntime>=1.19.0->unstructured[all-docs]) (10.0)\n",
            "Requirement already satisfied: pycparser in /usr/local/lib/python3.11/dist-packages (from cffi>=1.12->cryptography>=36.0.0->pdfminer.six->unstructured[all-docs]) (2.22)\n",
            "Requirement already satisfied: pyasn1<0.7.0,>=0.6.1 in /usr/local/lib/python3.11/dist-packages (from pyasn1-modules>=0.2.1->google-auth!=2.24.0,!=2.25.0,<3.0.0,>=2.14.1->google-cloud-vision->unstructured[all-docs]) (0.6.1)\n",
            "Requirement already satisfied: sniffio>=1.1 in /usr/local/lib/python3.11/dist-packages (from anyio->httpx>=0.27.0->unstructured-client->unstructured[all-docs]) (1.3.1)\n",
            "Requirement already satisfied: MarkupSafe>=2.0 in /usr/local/lib/python3.11/dist-packages (from jinja2->torch->unstructured-inference>=1.0.5->unstructured[all-docs]) (3.0.2)\n"
          ]
        }
      ],
      "source": [
        "! pip install \"unstructured[all-docs]\" pillow pydantic lxml matplotlib"
      ]
    },
    {
      "cell_type": "code",
      "source": [
        "!sudo apt-get update"
      ],
      "metadata": {
        "colab": {
          "base_uri": "https://localhost:8080/"
        },
        "id": "fMAP5JFCYppr",
        "outputId": "c06d4c0d-47d7-45bb-b3ec-358b3d866510"
      },
      "execution_count": 2,
      "outputs": [
        {
          "output_type": "stream",
          "name": "stdout",
          "text": [
            "\r0% [Working]\r            \rGet:1 https://cloud.r-project.org/bin/linux/ubuntu jammy-cran40/ InRelease [3,632 B]\n",
            "Hit:2 https://developer.download.nvidia.com/compute/cuda/repos/ubuntu2204/x86_64  InRelease\n",
            "Get:3 http://security.ubuntu.com/ubuntu jammy-security InRelease [129 kB]\n",
            "Hit:4 http://archive.ubuntu.com/ubuntu jammy InRelease\n",
            "Get:5 http://archive.ubuntu.com/ubuntu jammy-updates InRelease [128 kB]\n",
            "Get:6 https://r2u.stat.illinois.edu/ubuntu jammy InRelease [6,555 B]\n",
            "Get:7 https://r2u.stat.illinois.edu/ubuntu jammy/main amd64 Packages [2,755 kB]\n",
            "Get:8 http://archive.ubuntu.com/ubuntu jammy-backports InRelease [127 kB]\n",
            "Hit:9 https://ppa.launchpadcontent.net/deadsnakes/ppa/ubuntu jammy InRelease\n",
            "Get:10 http://security.ubuntu.com/ubuntu jammy-security/main amd64 Packages [3,098 kB]\n",
            "Get:11 http://archive.ubuntu.com/ubuntu jammy-updates/universe amd64 Packages [1,566 kB]\n",
            "Hit:12 https://ppa.launchpadcontent.net/graphics-drivers/ppa/ubuntu jammy InRelease\n",
            "Hit:13 https://ppa.launchpadcontent.net/ubuntugis/ppa/ubuntu jammy InRelease\n",
            "Get:14 http://archive.ubuntu.com/ubuntu jammy-updates/main amd64 Packages [3,410 kB]\n",
            "Get:15 https://r2u.stat.illinois.edu/ubuntu jammy/main all Packages [9,086 kB]\n",
            "Get:16 http://security.ubuntu.com/ubuntu jammy-security/restricted amd64 Packages [4,780 kB]\n",
            "Get:17 http://archive.ubuntu.com/ubuntu jammy-updates/restricted amd64 Packages [4,933 kB]\n",
            "Get:18 http://security.ubuntu.com/ubuntu jammy-security/universe amd64 Packages [1,264 kB]\n",
            "Get:19 http://archive.ubuntu.com/ubuntu jammy-backports/universe amd64 Packages [35.2 kB]\n",
            "Fetched 31.3 MB in 3s (11.5 MB/s)\n",
            "Reading package lists... Done\n",
            "W: Skipping acquire of configured file 'main/source/Sources' as repository 'https://r2u.stat.illinois.edu/ubuntu jammy InRelease' does not seem to provide it (sources.list entry misspelt?)\n"
          ]
        }
      ]
    },
    {
      "cell_type": "code",
      "source": [
        "!sudo apt-get install poppler-utils"
      ],
      "metadata": {
        "colab": {
          "base_uri": "https://localhost:8080/"
        },
        "id": "_7pQjef6a5CI",
        "outputId": "1ac9011e-44d9-4817-8a06-961988931234"
      },
      "execution_count": 3,
      "outputs": [
        {
          "output_type": "stream",
          "name": "stdout",
          "text": [
            "Reading package lists... Done\n",
            "Building dependency tree... Done\n",
            "Reading state information... Done\n",
            "The following NEW packages will be installed:\n",
            "  poppler-utils\n",
            "0 upgraded, 1 newly installed, 0 to remove and 52 not upgraded.\n",
            "Need to get 186 kB of archives.\n",
            "After this operation, 697 kB of additional disk space will be used.\n",
            "Get:1 http://archive.ubuntu.com/ubuntu jammy-updates/main amd64 poppler-utils amd64 22.02.0-2ubuntu0.8 [186 kB]\n",
            "Fetched 186 kB in 0s (401 kB/s)\n",
            "debconf: unable to initialize frontend: Dialog\n",
            "debconf: (No usable dialog-like program is installed, so the dialog based frontend cannot be used. at /usr/share/perl5/Debconf/FrontEnd/Dialog.pm line 78, <> line 1.)\n",
            "debconf: falling back to frontend: Readline\n",
            "debconf: unable to initialize frontend: Readline\n",
            "debconf: (This frontend requires a controlling tty.)\n",
            "debconf: falling back to frontend: Teletype\n",
            "dpkg-preconfigure: unable to re-open stdin: \n",
            "Selecting previously unselected package poppler-utils.\n",
            "(Reading database ... 126281 files and directories currently installed.)\n",
            "Preparing to unpack .../poppler-utils_22.02.0-2ubuntu0.8_amd64.deb ...\n",
            "Unpacking poppler-utils (22.02.0-2ubuntu0.8) ...\n",
            "Setting up poppler-utils (22.02.0-2ubuntu0.8) ...\n",
            "Processing triggers for man-db (2.10.2-1) ...\n"
          ]
        }
      ]
    },
    {
      "cell_type": "code",
      "source": [
        "!sudo apt-get install tesseract-ocr"
      ],
      "metadata": {
        "colab": {
          "base_uri": "https://localhost:8080/"
        },
        "id": "I65l9VNrcB7C",
        "outputId": "a082e729-22d6-4ba0-ae08-752d4183071f"
      },
      "execution_count": 4,
      "outputs": [
        {
          "output_type": "stream",
          "name": "stdout",
          "text": [
            "Reading package lists... Done\n",
            "Building dependency tree... Done\n",
            "Reading state information... Done\n",
            "tesseract-ocr is already the newest version (4.1.1-2.1build1).\n",
            "0 upgraded, 0 newly installed, 0 to remove and 52 not upgraded.\n"
          ]
        }
      ]
    },
    {
      "cell_type": "code",
      "source": [
        "!sudo apt-get install libtesseract-dev"
      ],
      "metadata": {
        "colab": {
          "base_uri": "https://localhost:8080/"
        },
        "id": "U7GxLrovcHFi",
        "outputId": "0aa63785-1100-4e23-a26a-53c7b14af890"
      },
      "execution_count": 5,
      "outputs": [
        {
          "output_type": "stream",
          "name": "stdout",
          "text": [
            "Reading package lists... Done\n",
            "Building dependency tree... Done\n",
            "Reading state information... Done\n",
            "The following additional packages will be installed:\n",
            "  libarchive-dev libleptonica-dev\n",
            "The following NEW packages will be installed:\n",
            "  libarchive-dev libleptonica-dev libtesseract-dev\n",
            "0 upgraded, 3 newly installed, 0 to remove and 52 not upgraded.\n",
            "Need to get 3,743 kB of archives.\n",
            "After this operation, 16.0 MB of additional disk space will be used.\n",
            "Get:1 http://archive.ubuntu.com/ubuntu jammy-updates/main amd64 libarchive-dev amd64 3.6.0-1ubuntu1.5 [581 kB]\n",
            "Get:2 http://archive.ubuntu.com/ubuntu jammy/universe amd64 libleptonica-dev amd64 1.82.0-3build1 [1,562 kB]\n",
            "Get:3 http://archive.ubuntu.com/ubuntu jammy/universe amd64 libtesseract-dev amd64 4.1.1-2.1build1 [1,600 kB]\n",
            "Fetched 3,743 kB in 1s (4,274 kB/s)\n",
            "debconf: unable to initialize frontend: Dialog\n",
            "debconf: (No usable dialog-like program is installed, so the dialog based frontend cannot be used. at /usr/share/perl5/Debconf/FrontEnd/Dialog.pm line 78, <> line 3.)\n",
            "debconf: falling back to frontend: Readline\n",
            "debconf: unable to initialize frontend: Readline\n",
            "debconf: (This frontend requires a controlling tty.)\n",
            "debconf: falling back to frontend: Teletype\n",
            "dpkg-preconfigure: unable to re-open stdin: \n",
            "Selecting previously unselected package libarchive-dev:amd64.\n",
            "(Reading database ... 126311 files and directories currently installed.)\n",
            "Preparing to unpack .../libarchive-dev_3.6.0-1ubuntu1.5_amd64.deb ...\n",
            "Unpacking libarchive-dev:amd64 (3.6.0-1ubuntu1.5) ...\n",
            "Selecting previously unselected package libleptonica-dev.\n",
            "Preparing to unpack .../libleptonica-dev_1.82.0-3build1_amd64.deb ...\n",
            "Unpacking libleptonica-dev (1.82.0-3build1) ...\n",
            "Selecting previously unselected package libtesseract-dev:amd64.\n",
            "Preparing to unpack .../libtesseract-dev_4.1.1-2.1build1_amd64.deb ...\n",
            "Unpacking libtesseract-dev:amd64 (4.1.1-2.1build1) ...\n",
            "Setting up libleptonica-dev (1.82.0-3build1) ...\n",
            "Setting up libarchive-dev:amd64 (3.6.0-1ubuntu1.5) ...\n",
            "Setting up libtesseract-dev:amd64 (4.1.1-2.1build1) ...\n",
            "Processing triggers for man-db (2.10.2-1) ...\n"
          ]
        }
      ]
    },
    {
      "cell_type": "code",
      "source": [
        "!pip install unstructured-pytesseract"
      ],
      "metadata": {
        "colab": {
          "base_uri": "https://localhost:8080/"
        },
        "id": "uDoLMrMfcRbn",
        "outputId": "ec698f2e-a0c1-48f7-e64b-45735ed1deaa"
      },
      "execution_count": 6,
      "outputs": [
        {
          "output_type": "stream",
          "name": "stdout",
          "text": [
            "Requirement already satisfied: unstructured-pytesseract in /usr/local/lib/python3.11/dist-packages (0.3.15)\n",
            "Requirement already satisfied: packaging>=21.3 in /usr/local/lib/python3.11/dist-packages (from unstructured-pytesseract) (24.2)\n",
            "Requirement already satisfied: Pillow>=8.0.0 in /usr/local/lib/python3.11/dist-packages (from unstructured-pytesseract) (11.2.1)\n"
          ]
        }
      ]
    },
    {
      "cell_type": "markdown",
      "source": [
        "## Data Parsing / Data Extraction:"
      ],
      "metadata": {
        "id": "bqTigxgac1jA"
      }
    },
    {
      "cell_type": "code",
      "source": [
        "from unstructured.partition.pdf import partition_pdf"
      ],
      "metadata": {
        "id": "MiG9Qd_xaq07"
      },
      "execution_count": 7,
      "outputs": []
    },
    {
      "cell_type": "code",
      "source": [
        "raw_pdf_elements=partition_pdf(\n",
        "    filename=\"/content/drive/MyDrive/Generative_AI_Advanced_NLP/Advance_NLP_Generative_AI/CODE/data/openai.pdf\",\n",
        "    strategy=\"hi_res\",\n",
        "    extract_images_in_pdf=True,\n",
        "    extract_image_block_types=[\"Image\",\"Table\"],\n",
        "    extract_image_block_to_payload=False,\n",
        "    extract_image_block_output_dir=\"/content/drive/MyDrive/Generative_AI_Advanced_NLP/Advance_NLP_Generative_AI/CODE/data/extracted_data\"\n",
        "    )"
      ],
      "metadata": {
        "colab": {
          "base_uri": "https://localhost:8080/",
          "height": 1000,
          "referenced_widgets": [
            "43c89bbd28a545029a303dfe28fd5f2d",
            "5db7456229364627b0deda97ce3ea7b7",
            "56fbadd3a4504376a47293aa33f7fd93",
            "2332ebc85de04fab8e566bbdd78a9f47",
            "2f6be3e827524b378ee9d77534bd5c05",
            "9f6605911eb9452b9445f4ad504da81a",
            "1b7e17374b3f4143883bb927c2a87a88",
            "04a1999e5b6e4e559bd6658ca90f4e87",
            "cd0390d7a8564ab9b804f05106956b5f",
            "e90f5341a22f457c88abbcd0a5aca302",
            "31d8fb4269a0406187bc2c99575b9a7d"
          ]
        },
        "id": "r4QOWrN3eq0m",
        "outputId": "07dfaeeb-a4fa-4435-f3a1-c5d947dcab8e"
      },
      "execution_count": 8,
      "outputs": [
        {
          "output_type": "stream",
          "name": "stderr",
          "text": [
            "WARNING:pdfminer.pdffont:Could get FontBBox from font descriptor because None cannot be parsed as 4 floats\n",
            "WARNING:pdfminer.pdffont:Could get FontBBox from font descriptor because None cannot be parsed as 4 floats\n",
            "WARNING:pdfminer.pdffont:Could get FontBBox from font descriptor because None cannot be parsed as 4 floats\n",
            "WARNING:pdfminer.pdffont:Could get FontBBox from font descriptor because None cannot be parsed as 4 floats\n",
            "WARNING:pdfminer.pdffont:Could get FontBBox from font descriptor because None cannot be parsed as 4 floats\n",
            "WARNING:pdfminer.pdffont:Could get FontBBox from font descriptor because None cannot be parsed as 4 floats\n",
            "WARNING:pdfminer.pdffont:Could get FontBBox from font descriptor because None cannot be parsed as 4 floats\n",
            "WARNING:pdfminer.pdffont:Could get FontBBox from font descriptor because None cannot be parsed as 4 floats\n",
            "WARNING:pdfminer.pdffont:Could get FontBBox from font descriptor because None cannot be parsed as 4 floats\n",
            "WARNING:pdfminer.pdffont:Could get FontBBox from font descriptor because None cannot be parsed as 4 floats\n",
            "WARNING:pdfminer.pdffont:Could get FontBBox from font descriptor because None cannot be parsed as 4 floats\n",
            "WARNING:pdfminer.pdffont:Could get FontBBox from font descriptor because None cannot be parsed as 4 floats\n",
            "WARNING:pdfminer.pdffont:Could get FontBBox from font descriptor because None cannot be parsed as 4 floats\n",
            "WARNING:pdfminer.pdffont:Could get FontBBox from font descriptor because None cannot be parsed as 4 floats\n",
            "WARNING:pdfminer.pdffont:Could get FontBBox from font descriptor because None cannot be parsed as 4 floats\n",
            "WARNING:pdfminer.pdffont:Could get FontBBox from font descriptor because None cannot be parsed as 4 floats\n",
            "WARNING:pdfminer.pdffont:Could get FontBBox from font descriptor because None cannot be parsed as 4 floats\n",
            "WARNING:pdfminer.pdffont:Could get FontBBox from font descriptor because None cannot be parsed as 4 floats\n",
            "WARNING:pdfminer.pdffont:Could get FontBBox from font descriptor because None cannot be parsed as 4 floats\n",
            "WARNING:pdfminer.pdffont:Could get FontBBox from font descriptor because None cannot be parsed as 4 floats\n",
            "WARNING:pdfminer.pdffont:Could get FontBBox from font descriptor because None cannot be parsed as 4 floats\n",
            "WARNING:pdfminer.pdffont:Could get FontBBox from font descriptor because None cannot be parsed as 4 floats\n",
            "WARNING:pdfminer.pdffont:Could get FontBBox from font descriptor because None cannot be parsed as 4 floats\n",
            "WARNING:pdfminer.pdffont:Could get FontBBox from font descriptor because None cannot be parsed as 4 floats\n",
            "WARNING:pdfminer.pdffont:Could get FontBBox from font descriptor because None cannot be parsed as 4 floats\n",
            "WARNING:pdfminer.pdffont:Could get FontBBox from font descriptor because None cannot be parsed as 4 floats\n",
            "WARNING:pdfminer.pdffont:Could get FontBBox from font descriptor because None cannot be parsed as 4 floats\n",
            "WARNING:pdfminer.pdffont:Could get FontBBox from font descriptor because None cannot be parsed as 4 floats\n",
            "WARNING:pdfminer.pdffont:Could get FontBBox from font descriptor because None cannot be parsed as 4 floats\n",
            "WARNING:pdfminer.pdffont:Could get FontBBox from font descriptor because None cannot be parsed as 4 floats\n",
            "WARNING:pdfminer.pdffont:Could get FontBBox from font descriptor because None cannot be parsed as 4 floats\n",
            "WARNING:pdfminer.pdffont:Could get FontBBox from font descriptor because None cannot be parsed as 4 floats\n",
            "WARNING:pdfminer.pdffont:Could get FontBBox from font descriptor because None cannot be parsed as 4 floats\n",
            "WARNING:pdfminer.pdffont:Could get FontBBox from font descriptor because None cannot be parsed as 4 floats\n",
            "WARNING:pdfminer.pdffont:Could get FontBBox from font descriptor because None cannot be parsed as 4 floats\n"
          ]
        },
        {
          "output_type": "display_data",
          "data": {
            "text/plain": [
              "yolox_l0.05.onnx:   0%|          | 0.00/217M [00:00<?, ?B/s]"
            ],
            "application/vnd.jupyter.widget-view+json": {
              "version_major": 2,
              "version_minor": 0,
              "model_id": "43c89bbd28a545029a303dfe28fd5f2d"
            }
          },
          "metadata": {}
        },
        {
          "output_type": "stream",
          "name": "stderr",
          "text": [
            "WARNING:pdfminer.pdffont:Could get FontBBox from font descriptor because None cannot be parsed as 4 floats\n",
            "WARNING:pdfminer.pdffont:Could get FontBBox from font descriptor because None cannot be parsed as 4 floats\n",
            "WARNING:pdfminer.pdffont:Could get FontBBox from font descriptor because None cannot be parsed as 4 floats\n",
            "WARNING:pdfminer.pdffont:Could get FontBBox from font descriptor because None cannot be parsed as 4 floats\n",
            "WARNING:pdfminer.pdffont:Could get FontBBox from font descriptor because None cannot be parsed as 4 floats\n",
            "WARNING:pdfminer.pdffont:Could get FontBBox from font descriptor because None cannot be parsed as 4 floats\n",
            "WARNING:pdfminer.pdffont:Could get FontBBox from font descriptor because None cannot be parsed as 4 floats\n",
            "WARNING:pdfminer.pdffont:Could get FontBBox from font descriptor because None cannot be parsed as 4 floats\n",
            "WARNING:pdfminer.pdffont:Could get FontBBox from font descriptor because None cannot be parsed as 4 floats\n",
            "WARNING:pdfminer.pdffont:Could get FontBBox from font descriptor because None cannot be parsed as 4 floats\n",
            "WARNING:pdfminer.pdffont:Could get FontBBox from font descriptor because None cannot be parsed as 4 floats\n",
            "WARNING:pdfminer.pdffont:Could get FontBBox from font descriptor because None cannot be parsed as 4 floats\n",
            "WARNING:pdfminer.pdffont:Could get FontBBox from font descriptor because None cannot be parsed as 4 floats\n",
            "WARNING:pdfminer.pdffont:Could get FontBBox from font descriptor because None cannot be parsed as 4 floats\n",
            "WARNING:pdfminer.pdffont:Could get FontBBox from font descriptor because None cannot be parsed as 4 floats\n",
            "WARNING:pdfminer.pdffont:Could get FontBBox from font descriptor because None cannot be parsed as 4 floats\n",
            "WARNING:pdfminer.pdffont:Could get FontBBox from font descriptor because None cannot be parsed as 4 floats\n",
            "WARNING:pdfminer.pdffont:Could get FontBBox from font descriptor because None cannot be parsed as 4 floats\n",
            "WARNING:pdfminer.pdffont:Could get FontBBox from font descriptor because None cannot be parsed as 4 floats\n",
            "WARNING:pdfminer.pdffont:Could get FontBBox from font descriptor because None cannot be parsed as 4 floats\n",
            "WARNING:pdfminer.pdffont:Could get FontBBox from font descriptor because None cannot be parsed as 4 floats\n",
            "WARNING:pdfminer.pdffont:Could get FontBBox from font descriptor because None cannot be parsed as 4 floats\n",
            "WARNING:pdfminer.pdffont:Could get FontBBox from font descriptor because None cannot be parsed as 4 floats\n",
            "WARNING:pdfminer.pdffont:Could get FontBBox from font descriptor because None cannot be parsed as 4 floats\n",
            "WARNING:pdfminer.pdffont:Could get FontBBox from font descriptor because None cannot be parsed as 4 floats\n",
            "WARNING:pdfminer.pdffont:Could get FontBBox from font descriptor because None cannot be parsed as 4 floats\n",
            "WARNING:pdfminer.pdffont:Could get FontBBox from font descriptor because None cannot be parsed as 4 floats\n",
            "WARNING:pdfminer.pdffont:Could get FontBBox from font descriptor because None cannot be parsed as 4 floats\n",
            "WARNING:pdfminer.pdffont:Could get FontBBox from font descriptor because None cannot be parsed as 4 floats\n",
            "WARNING:pdfminer.pdffont:Could get FontBBox from font descriptor because None cannot be parsed as 4 floats\n",
            "WARNING:pdfminer.pdffont:Could get FontBBox from font descriptor because None cannot be parsed as 4 floats\n",
            "WARNING:pdfminer.pdffont:Could get FontBBox from font descriptor because None cannot be parsed as 4 floats\n",
            "WARNING:pdfminer.pdffont:Could get FontBBox from font descriptor because None cannot be parsed as 4 floats\n",
            "WARNING:pdfminer.pdffont:Could get FontBBox from font descriptor because None cannot be parsed as 4 floats\n",
            "WARNING:pdfminer.pdffont:Could get FontBBox from font descriptor because None cannot be parsed as 4 floats\n"
          ]
        }
      ]
    },
    {
      "cell_type": "code",
      "source": [
        "raw_pdf_elements"
      ],
      "metadata": {
        "colab": {
          "base_uri": "https://localhost:8080/"
        },
        "id": "Bn0oEVyWfgtP",
        "outputId": "55e9eae9-1b02-446c-a485-acea29888c23"
      },
      "execution_count": 9,
      "outputs": [
        {
          "output_type": "execute_result",
          "data": {
            "text/plain": [
              "[<unstructured.documents.elements.Header at 0x7900f8207f90>,\n",
              " <unstructured.documents.elements.Header at 0x7900f6670810>,\n",
              " <unstructured.documents.elements.Title at 0x7900f6670b10>,\n",
              " <unstructured.documents.elements.Image at 0x7900f6671bd0>,\n",
              " <unstructured.documents.elements.NarrativeText at 0x7900f6672dd0>,\n",
              " <unstructured.documents.elements.NarrativeText at 0x7900f6672b50>,\n",
              " <unstructured.documents.elements.NarrativeText at 0x7900f66717d0>,\n",
              " <unstructured.documents.elements.Text at 0x7900f6672350>,\n",
              " <unstructured.documents.elements.NarrativeText at 0x7900f6672d10>,\n",
              " <unstructured.documents.elements.Table at 0x7900f6671790>,\n",
              " <unstructured.documents.elements.Text at 0x7900f6672f10>,\n",
              " <unstructured.documents.elements.NarrativeText at 0x7900f6671550>,\n",
              " <unstructured.documents.elements.NarrativeText at 0x7900f6670d50>,\n",
              " <unstructured.documents.elements.ListItem at 0x7900f6672290>,\n",
              " <unstructured.documents.elements.ListItem at 0x7900f6672d90>,\n",
              " <unstructured.documents.elements.Text at 0x7900f6673e50>,\n",
              " <unstructured.documents.elements.Footer at 0x7900f6671c50>,\n",
              " <unstructured.documents.elements.NarrativeText at 0x7900f6671d50>,\n",
              " <unstructured.documents.elements.Footer at 0x7900f6673b90>,\n",
              " <unstructured.documents.elements.Header at 0x7900f6671b90>,\n",
              " <unstructured.documents.elements.Header at 0x7900f6671510>,\n",
              " <unstructured.documents.elements.ListItem at 0x7900f6670890>,\n",
              " <unstructured.documents.elements.ListItem at 0x7900f6671990>,\n",
              " <unstructured.documents.elements.ListItem at 0x7900f66707d0>,\n",
              " <unstructured.documents.elements.NarrativeText at 0x7900f6673850>,\n",
              " <unstructured.documents.elements.NarrativeText at 0x7900f6636a50>,\n",
              " <unstructured.documents.elements.Text at 0x7900f66365d0>,\n",
              " <unstructured.documents.elements.Footer at 0x7900f6634310>,\n",
              " <unstructured.documents.elements.Footer at 0x7900f6636e90>,\n",
              " <unstructured.documents.elements.Header at 0x7900f6672ed0>,\n",
              " <unstructured.documents.elements.Header at 0x7900f66723d0>,\n",
              " <unstructured.documents.elements.NarrativeText at 0x7900f66364d0>,\n",
              " <unstructured.documents.elements.ListItem at 0x7900f6634b90>,\n",
              " <unstructured.documents.elements.ListItem at 0x7900f6637910>,\n",
              " <unstructured.documents.elements.Text at 0x7900f6634150>,\n",
              " <unstructured.documents.elements.NarrativeText at 0x7900f6636150>,\n",
              " <unstructured.documents.elements.Text at 0x7900f6637890>,\n",
              " <unstructured.documents.elements.NarrativeText at 0x7900f6634e90>,\n",
              " <unstructured.documents.elements.Text at 0x7900f6636b50>,\n",
              " <unstructured.documents.elements.Footer at 0x7900f6636d10>,\n",
              " <unstructured.documents.elements.Footer at 0x7900f6637d10>,\n",
              " <unstructured.documents.elements.Header at 0x7900f6673e10>,\n",
              " <unstructured.documents.elements.Header at 0x7900f66344d0>,\n",
              " <unstructured.documents.elements.ListItem at 0x7900f66375d0>,\n",
              " <unstructured.documents.elements.ListItem at 0x7900f6636dd0>,\n",
              " <unstructured.documents.elements.Text at 0x7900f6637e50>,\n",
              " <unstructured.documents.elements.ListItem at 0x7900f6637ed0>,\n",
              " <unstructured.documents.elements.Text at 0x7900f6635990>,\n",
              " <unstructured.documents.elements.ListItem at 0x7900f6635d10>,\n",
              " <unstructured.documents.elements.Text at 0x7900f6635c10>,\n",
              " <unstructured.documents.elements.NarrativeText at 0x7900f6634390>,\n",
              " <unstructured.documents.elements.Text at 0x7900f65a9850>,\n",
              " <unstructured.documents.elements.Footer at 0x7900f65abad0>,\n",
              " <unstructured.documents.elements.Footer at 0x7900f65ab250>,\n",
              " <unstructured.documents.elements.Header at 0x7900f6634650>,\n",
              " <unstructured.documents.elements.Header at 0x7900f6637e10>,\n",
              " <unstructured.documents.elements.NarrativeText at 0x7900f6637f90>,\n",
              " <unstructured.documents.elements.Text at 0x7900f6670190>,\n",
              " <unstructured.documents.elements.Image at 0x7900f65a99d0>,\n",
              " <unstructured.documents.elements.Text at 0x7900f65a8110>,\n",
              " <unstructured.documents.elements.Footer at 0x7900f65aab50>,\n",
              " <unstructured.documents.elements.Footer at 0x7900f65abed0>,\n",
              " <unstructured.documents.elements.Header at 0x7900f6637c50>,\n",
              " <unstructured.documents.elements.Header at 0x7900f65aab90>,\n",
              " <unstructured.documents.elements.Image at 0x7900f65ab8d0>,\n",
              " <unstructured.documents.elements.Text at 0x7900f921b810>,\n",
              " <unstructured.documents.elements.Footer at 0x7900f9219dd0>,\n",
              " <unstructured.documents.elements.Footer at 0x7900f9219350>,\n",
              " <unstructured.documents.elements.Header at 0x7900f9218250>,\n",
              " <unstructured.documents.elements.Header at 0x7900f65a9990>,\n",
              " <unstructured.documents.elements.Image at 0x7900f6634bd0>,\n",
              " <unstructured.documents.elements.Text at 0x7900f6521e90>,\n",
              " <unstructured.documents.elements.NarrativeText at 0x7900f6521f50>,\n",
              " <unstructured.documents.elements.Text at 0x7900f6522210>,\n",
              " <unstructured.documents.elements.Footer at 0x7900f65207d0>,\n",
              " <unstructured.documents.elements.Footer at 0x7900f6520890>,\n",
              " <unstructured.documents.elements.Header at 0x7900f65a88d0>,\n",
              " <unstructured.documents.elements.Header at 0x7900f6522550>,\n",
              " <unstructured.documents.elements.ListItem at 0x7900f6520e90>,\n",
              " <unstructured.documents.elements.ListItem at 0x7900f6521c50>,\n",
              " <unstructured.documents.elements.ListItem at 0x7900f6512f10>,\n",
              " <unstructured.documents.elements.Image at 0x7900f6510210>,\n",
              " <unstructured.documents.elements.Footer at 0x7900f6511590>,\n",
              " <unstructured.documents.elements.Footer at 0x7900f6510a50>,\n",
              " <unstructured.documents.elements.Header at 0x7900f65226d0>,\n",
              " <unstructured.documents.elements.Header at 0x7900f66349d0>,\n",
              " <unstructured.documents.elements.Image at 0x7900f6513f50>,\n",
              " <unstructured.documents.elements.NarrativeText at 0x7900f65137d0>,\n",
              " <unstructured.documents.elements.Text at 0x7900f6512fd0>,\n",
              " <unstructured.documents.elements.ListItem at 0x7900f6511150>,\n",
              " <unstructured.documents.elements.ListItem at 0x7900f66323d0>,\n",
              " <unstructured.documents.elements.ListItem at 0x7900f6632390>,\n",
              " <unstructured.documents.elements.Footer at 0x7900f6630e10>,\n",
              " <unstructured.documents.elements.Footer at 0x7900f6631390>,\n",
              " <unstructured.documents.elements.Header at 0x7900f6511190>,\n",
              " <unstructured.documents.elements.Header at 0x7900f6513410>,\n",
              " <unstructured.documents.elements.Image at 0x7900f6630550>,\n",
              " <unstructured.documents.elements.Footer at 0x7900f6632cd0>,\n",
              " <unstructured.documents.elements.Footer at 0x7900f6632a50>,\n",
              " <unstructured.documents.elements.Header at 0x7900f92192d0>,\n",
              " <unstructured.documents.elements.Header at 0x7900f6632d10>,\n",
              " <unstructured.documents.elements.Image at 0x7900f6632fd0>,\n",
              " <unstructured.documents.elements.Text at 0x7900f6631610>,\n",
              " <unstructured.documents.elements.NarrativeText at 0x7900f6630b90>,\n",
              " <unstructured.documents.elements.Text at 0x7900f6630c90>,\n",
              " <unstructured.documents.elements.Footer at 0x7900f6631850>,\n",
              " <unstructured.documents.elements.Footer at 0x7900f6630d90>,\n",
              " <unstructured.documents.elements.Header at 0x7900f6630d50>,\n",
              " <unstructured.documents.elements.Header at 0x7900f6630b10>,\n",
              " <unstructured.documents.elements.Image at 0x7900f6632d50>,\n",
              " <unstructured.documents.elements.Footer at 0x7900f6631e50>,\n",
              " <unstructured.documents.elements.Footer at 0x7900f6631d90>,\n",
              " <unstructured.documents.elements.Header at 0x7900f6631e90>,\n",
              " <unstructured.documents.elements.Header at 0x7900f6631f10>,\n",
              " <unstructured.documents.elements.Image at 0x7900f6632050>,\n",
              " <unstructured.documents.elements.Text at 0x7900f6632450>,\n",
              " <unstructured.documents.elements.NarrativeText at 0x7900f6633610>,\n",
              " <unstructured.documents.elements.Text at 0x7900f66329d0>,\n",
              " <unstructured.documents.elements.Footer at 0x7900f66332d0>,\n",
              " <unstructured.documents.elements.Footer at 0x7900f6633550>,\n",
              " <unstructured.documents.elements.Header at 0x7900f6633590>,\n",
              " <unstructured.documents.elements.Header at 0x7900f66312d0>,\n",
              " <unstructured.documents.elements.Image at 0x7900f66321d0>,\n",
              " <unstructured.documents.elements.Text at 0x7900f6633c10>,\n",
              " <unstructured.documents.elements.Footer at 0x7900f6630290>,\n",
              " <unstructured.documents.elements.Footer at 0x7900f6633cd0>,\n",
              " <unstructured.documents.elements.Header at 0x7900f6633dd0>,\n",
              " <unstructured.documents.elements.Header at 0x7900f6633bd0>,\n",
              " <unstructured.documents.elements.Image at 0x7900f6576210>,\n",
              " <unstructured.documents.elements.Title at 0x7900f65775d0>,\n",
              " <unstructured.documents.elements.Text at 0x7900f6576790>,\n",
              " <unstructured.documents.elements.NarrativeText at 0x7900f6574710>,\n",
              " <unstructured.documents.elements.Text at 0x7900f6648cd0>,\n",
              " <unstructured.documents.elements.Footer at 0x7900f66484d0>,\n",
              " <unstructured.documents.elements.Footer at 0x7900f6649490>,\n",
              " <unstructured.documents.elements.Header at 0x7900f6633990>,\n",
              " <unstructured.documents.elements.Header at 0x7900f6576890>,\n",
              " <unstructured.documents.elements.Image at 0x7900f664bf50>,\n",
              " <unstructured.documents.elements.Text at 0x7900f6648f50>,\n",
              " <unstructured.documents.elements.ListItem at 0x7900f66490d0>,\n",
              " <unstructured.documents.elements.Text at 0x7900f6648ed0>,\n",
              " <unstructured.documents.elements.ListItem at 0x7900f6648990>,\n",
              " <unstructured.documents.elements.Text at 0x7900f664bbd0>,\n",
              " <unstructured.documents.elements.ListItem at 0x7900f6648610>,\n",
              " <unstructured.documents.elements.Text at 0x7900f664bd50>,\n",
              " <unstructured.documents.elements.ListItem at 0x7900ed49fd90>,\n",
              " <unstructured.documents.elements.Text at 0x7900f655fb90>,\n",
              " <unstructured.documents.elements.ListItem at 0x7900f655ff10>,\n",
              " <unstructured.documents.elements.Text at 0x7900f655f750>,\n",
              " <unstructured.documents.elements.ListItem at 0x7900f655c490>,\n",
              " <unstructured.documents.elements.Text at 0x7900f655e350>,\n",
              " <unstructured.documents.elements.Footer at 0x7900f655e150>,\n",
              " <unstructured.documents.elements.Footer at 0x7900f655c510>,\n",
              " <unstructured.documents.elements.Header at 0x7900f6574890>,\n",
              " <unstructured.documents.elements.Header at 0x7900f6648150>,\n",
              " <unstructured.documents.elements.ListItem at 0x7900f6648650>,\n",
              " <unstructured.documents.elements.ListItem at 0x7900f655ddd0>,\n",
              " <unstructured.documents.elements.ListItem at 0x7900f655e490>,\n",
              " <unstructured.documents.elements.ListItem at 0x7900f6791310>,\n",
              " <unstructured.documents.elements.Text at 0x7900f9210790>,\n",
              " <unstructured.documents.elements.NarrativeText at 0x7900f9211dd0>,\n",
              " <unstructured.documents.elements.NarrativeText at 0x7900f9212b10>,\n",
              " <unstructured.documents.elements.Text at 0x7900f9210510>,\n",
              " <unstructured.documents.elements.Footer at 0x7900ed48bbd0>,\n",
              " <unstructured.documents.elements.Footer at 0x7900f9212290>,\n",
              " <unstructured.documents.elements.Header at 0x7900f6648e90>,\n",
              " <unstructured.documents.elements.Header at 0x7900f92109d0>,\n",
              " <unstructured.documents.elements.Image at 0x7900f655f950>,\n",
              " <unstructured.documents.elements.Image at 0x7900ed48aa10>,\n",
              " <unstructured.documents.elements.Footer at 0x7900ed437150>,\n",
              " <unstructured.documents.elements.Footer at 0x7900ed48a6d0>,\n",
              " <unstructured.documents.elements.Header at 0x7900f9213890>,\n",
              " <unstructured.documents.elements.Header at 0x7900ed48a8d0>,\n",
              " <unstructured.documents.elements.Image at 0x7900ed435290>,\n",
              " <unstructured.documents.elements.Text at 0x7900ed435410>,\n",
              " <unstructured.documents.elements.NarrativeText at 0x7900ed436090>,\n",
              " <unstructured.documents.elements.Text at 0x7900ed4344d0>,\n",
              " <unstructured.documents.elements.NarrativeText at 0x7900ed434690>,\n",
              " <unstructured.documents.elements.Footer at 0x7900ed437b10>,\n",
              " <unstructured.documents.elements.Footer at 0x7900ed436110>,\n",
              " <unstructured.documents.elements.Header at 0x7900ed489e10>,\n",
              " <unstructured.documents.elements.Header at 0x7900ed4376d0>,\n",
              " <unstructured.documents.elements.NarrativeText at 0x7900ed437e10>,\n",
              " <unstructured.documents.elements.Text at 0x7900ed4f8a50>,\n",
              " <unstructured.documents.elements.Text at 0x7900ed435fd0>,\n",
              " <unstructured.documents.elements.Text at 0x7900ed436490>,\n",
              " <unstructured.documents.elements.Image at 0x7900ed437c10>,\n",
              " <unstructured.documents.elements.Text at 0x7900ed4fb0d0>,\n",
              " <unstructured.documents.elements.Image at 0x7900ed437990>,\n",
              " <unstructured.documents.elements.Text at 0x7900ed437d50>,\n",
              " <unstructured.documents.elements.Text at 0x7900ed436950>,\n",
              " <unstructured.documents.elements.Image at 0x7900ed434210>,\n",
              " <unstructured.documents.elements.Text at 0x7900ed434510>,\n",
              " <unstructured.documents.elements.Image at 0x7900ed437850>,\n",
              " <unstructured.documents.elements.Text at 0x7900f9205d90>,\n",
              " <unstructured.documents.elements.Text at 0x7900f9204b90>,\n",
              " <unstructured.documents.elements.Text at 0x7900ed4fbe50>,\n",
              " <unstructured.documents.elements.Text at 0x7900f922b950>,\n",
              " <unstructured.documents.elements.Text at 0x7900ed4f9510>,\n",
              " <unstructured.documents.elements.Text at 0x7900ed4f9d10>,\n",
              " <unstructured.documents.elements.Text at 0x7900ed4f9210>,\n",
              " <unstructured.documents.elements.Text at 0x7900ed4fa450>,\n",
              " <unstructured.documents.elements.Image at 0x7900ed4fb450>,\n",
              " <unstructured.documents.elements.Text at 0x7900ed4f98d0>,\n",
              " <unstructured.documents.elements.NarrativeText at 0x7900ed4f9590>,\n",
              " <unstructured.documents.elements.NarrativeText at 0x7900ed4fad50>,\n",
              " <unstructured.documents.elements.Footer at 0x7900ed4f9150>,\n",
              " <unstructured.documents.elements.Footer at 0x7900ed4f93d0>,\n",
              " <unstructured.documents.elements.Header at 0x7900f92071d0>,\n",
              " <unstructured.documents.elements.Footer at 0x7900ed4f9910>,\n",
              " <unstructured.documents.elements.Header at 0x7900ed4351d0>,\n",
              " <unstructured.documents.elements.NarrativeText at 0x7900ed437f90>,\n",
              " <unstructured.documents.elements.Footer at 0x7900ed434490>]"
            ]
          },
          "metadata": {},
          "execution_count": 9
        }
      ]
    },
    {
      "cell_type": "code",
      "source": [
        "Header=[]\n",
        "Footer=[]\n",
        "Title=[]\n",
        "NarrativeText=[]\n",
        "Text=[]\n",
        "ListItem=[]\n",
        "Image=[]\n",
        "Table=[]\n",
        "\n",
        "for element in raw_pdf_elements:\n",
        "  if \"unstructured.documents.elements.Header\" in str(type(element)):\n",
        "            Header.append(str(element))\n",
        "  elif \"unstructured.documents.elements.Footer\" in str(type(element)):\n",
        "            Footer.append(str(element))\n",
        "  elif \"unstructured.documents.elements.Title\" in str(type(element)):\n",
        "            Title.append(str(element))\n",
        "  elif \"unstructured.documents.elements.NarrativeText\" in str(type(element)):\n",
        "            NarrativeText.append(str(element))\n",
        "  elif \"unstructured.documents.elements.Text\" in str(type(element)):\n",
        "            Text.append(str(element))\n",
        "  elif \"unstructured.documents.elements.ListItem\" in str(type(element)):\n",
        "            ListItem.append(str(element))\n",
        "  elif \"unstructured.documents.elements.Image\" in str(type(element)):\n",
        "            Image.append(str(element))\n",
        "  elif \"unstructured.documents.elements.Table\" in str(type(element)):\n",
        "            Table.append(str(element))"
      ],
      "metadata": {
        "id": "sVIsBLIIhi3h"
      },
      "execution_count": 10,
      "outputs": []
    },
    {
      "cell_type": "code",
      "source": [
        "Header"
      ],
      "metadata": {
        "colab": {
          "base_uri": "https://localhost:8080/"
        },
        "id": "8Yxa4SKGiZ8K",
        "outputId": "afc01ecb-3fc0-47b8-c0cc-bb9a34e2b5f1"
      },
      "execution_count": 11,
      "outputs": [
        {
          "output_type": "execute_result",
          "data": {
            "text/plain": [
              "['11/14/23, 8:35 PM',\n",
              " 'Clouded Judgement 11.10.23 - by Jamin Ball',\n",
              " '11/14/23, 8:35 PM',\n",
              " 'Clouded Judgement 11.10.23 - by Jamin Ball',\n",
              " '11/14/23, 8:35 PM',\n",
              " 'Clouded Judgement 11.10.23 - by Jamin Ball',\n",
              " '11/14/23, 8:35 PM',\n",
              " 'Clouded Judgement 11.10.23 - by Jamin Ball',\n",
              " '11/14/23, 8:35 PM',\n",
              " 'Clouded Judgement 11.10.23 - by Jamin Ball',\n",
              " '11/14/23, 8:35 PM',\n",
              " 'Clouded Judgement 11.10.23 - by Jamin Ball',\n",
              " '11/14/23, 8:35 PM',\n",
              " 'Clouded Judgement 11.10.23 - by Jamin Ball',\n",
              " '11/14/23, 8:35 PM',\n",
              " 'Clouded Judgement 11.10.23 - by Jamin Ball',\n",
              " '11/14/23, 8:35 PM',\n",
              " 'Clouded Judgement 11.10.23 - by Jamin Ball',\n",
              " '11/14/23, 8:35 PM',\n",
              " 'Clouded Judgement 11.10.23 - by Jamin Ball',\n",
              " '11/14/23, 8:35 PM',\n",
              " 'Clouded Judgement 11.10.23 - by Jamin Ball',\n",
              " '11/14/23, 8:35 PM',\n",
              " 'Clouded Judgement 11.10.23 - by Jamin Ball',\n",
              " '11/14/23, 8:35 PM',\n",
              " 'Clouded Judgement 11.10.23 - by Jamin Ball',\n",
              " '11/14/23, 8:35 PM',\n",
              " 'Clouded Judgement 11.10.23 - by Jamin Ball',\n",
              " '11/14/23, 8:35 PM',\n",
              " 'Clouded Judgement 11.10.23 - by Jamin Ball',\n",
              " '11/14/23, 8:35 PM',\n",
              " 'Clouded Judgement 11.10.23 - by Jamin Ball',\n",
              " '11/14/23, 8:35 PM',\n",
              " 'Clouded Judgement 11.10.23 - by Jamin Ball',\n",
              " '11/14/23, 8:35 PM',\n",
              " 'Clouded Judgement 11.10.23 - by Jamin Ball',\n",
              " '11/14/23, 8:35 PM',\n",
              " 'Clouded Judgement 11.10.23 - by Jamin Ball',\n",
              " '11/14/23, 8:35 PM',\n",
              " 'Clouded Judgement 11.10.23 - by Jamin Ball',\n",
              " '11/14/23, 8:35 PM',\n",
              " 'Clouded Judgement 11.10.23 - by Jamin Ball']"
            ]
          },
          "metadata": {},
          "execution_count": 11
        }
      ]
    },
    {
      "cell_type": "code",
      "source": [
        "Footer"
      ],
      "metadata": {
        "colab": {
          "base_uri": "https://localhost:8080/"
        },
        "id": "f0Jp5UtkicPZ",
        "outputId": "203ec782-4525-41bc-91b8-3bc4e4a605a5"
      },
      "execution_count": 12,
      "outputs": [
        {
          "output_type": "execute_result",
          "data": {
            "text/plain": [
              "['https://cloudedjudgement.substack.com/p/clouded-judgement-111023',\n",
              " '1/21',\n",
              " 'https://cloudedjudgement.substack.com/p/clouded-judgement-111023',\n",
              " '2/21',\n",
              " 'https://cloudedjudgement.substack.com/p/clouded-judgement-111023',\n",
              " '3/21',\n",
              " 'https://cloudedjudgement.substack.com/p/clouded-judgement-111023',\n",
              " '4/21',\n",
              " 'https://cloudedjudgement.substack.com/p/clouded-judgement-111023',\n",
              " '5/21',\n",
              " 'https://cloudedjudgement.substack.com/p/clouded-judgement-111023',\n",
              " '6/21',\n",
              " 'https://cloudedjudgement.substack.com/p/clouded-judgement-111023',\n",
              " '7/21',\n",
              " 'https://cloudedjudgement.substack.com/p/clouded-judgement-111023',\n",
              " '8/21',\n",
              " 'https://cloudedjudgement.substack.com/p/clouded-judgement-111023',\n",
              " '9/21',\n",
              " 'https://cloudedjudgement.substack.com/p/clouded-judgement-111023',\n",
              " '10/21',\n",
              " 'https://cloudedjudgement.substack.com/p/clouded-judgement-111023',\n",
              " '11/21',\n",
              " 'https://cloudedjudgement.substack.com/p/clouded-judgement-111023',\n",
              " '12/21',\n",
              " 'https://cloudedjudgement.substack.com/p/clouded-judgement-111023',\n",
              " '13/21',\n",
              " 'https://cloudedjudgement.substack.com/p/clouded-judgement-111023',\n",
              " '14/21',\n",
              " 'https://cloudedjudgement.substack.com/p/clouded-judgement-111023',\n",
              " '15/21',\n",
              " 'https://cloudedjudgement.substack.com/p/clouded-judgement-111023',\n",
              " '16/21',\n",
              " 'https://cloudedjudgement.substack.com/p/clouded-judgement-111023',\n",
              " '17/21',\n",
              " 'https://cloudedjudgement.substack.com/p/clouded-judgement-111023',\n",
              " '18/21',\n",
              " 'https://cloudedjudgement.substack.com/p/clouded-judgement-111023',\n",
              " '19/21',\n",
              " 'https://cloudedjudgement.substack.com/p/clouded-judgement-111023',\n",
              " '20/21',\n",
              " 'https://cloudedjudgement.substack.com/p/clouded-judgement-111023',\n",
              " '21/21']"
            ]
          },
          "metadata": {},
          "execution_count": 12
        }
      ]
    },
    {
      "cell_type": "code",
      "source": [
        "ListItem"
      ],
      "metadata": {
        "colab": {
          "base_uri": "https://localhost:8080/"
        },
        "id": "2ZXnbT3winpG",
        "outputId": "838f0bc9-29e2-4138-db68-785e61497124"
      },
      "execution_count": 13,
      "outputs": [
        {
          "output_type": "execute_result",
          "data": {
            "text/plain": [
              "['1. Raw silicon (chips like Nvidia bought in large quantities to build out infra to service upcoming demand).',\n",
              " '2. Model providers (OpenAI, Anthropic, etc as companies start building out Al).',\n",
              " '3. Hyperscalers (AWS, Azure, GCP as companies look for cloud GPUs who aren’t building out their own data centers)',\n",
              " '4. Infra (Data layer, orchestration, monitoring, ops, etc)',\n",
              " '5. Durable Applications',\n",
              " '1. Context length: Context window of GPT 4 Turbo went from 8k tokens to 128k tokens (think of this as ~300 pages of text worth of input). This means what you can put into a prompt just went up dramatically',\n",
              " '2. Costs decreasing: GPT 4 Turbo is 3x cheaper for input tokens (think of this as roughly the length of the prompt) and 2x cheaper for output tokens. This equates to $0.01 per 1k input tokens, and $0.03 per 1k output tokens. On a blended basis, GPT 4 Turbo is roughly 2.5-3x',\n",
              " \"“It looks like we've hit an inection point. It looks like there's a lot less overhang now in terms of what needs to be optimized or could be optimized by customers. It looks like also optimization is less intense and less widespread across the customer base.”\",\n",
              " '“We had a very healthy start to Q4 in October...the trends we see in early Q4 are stronger',\n",
              " '“As we look at our overall customer activity, we continue to see customers optimizing but with less impact than we experienced in Q2, contributing to our usage growth with',\n",
              " '“As a reminder, last quarter, we discussed a cohort of customers who began optimizing about a year ago and we said that they appear to stabilize their users growth at the end of Q2. That trend has held for the past several months with that cohorts usage remaining',\n",
              " 'Overall Median: 5.0x',\n",
              " 'Top 5 Median: 14.5x',\n",
              " '10Y: 4.6%',\n",
              " 'High Growth Median: 11.8x',\n",
              " 'Mid Growth Median: 7.4x',\n",
              " 'Low Growth Median: 3.9x',\n",
              " 'e Median NTM growth rate: 15%',\n",
              " 'e¢ Median LTM growth rate: 21%',\n",
              " 'e Median Gross Margin: 75%',\n",
              " 'e¢ Median Operating Margin (18%)',\n",
              " 'e Median FCF Margin: 8%',\n",
              " '© Median Net Retention: 114%',\n",
              " 'Median CAC Payback: 35 months',\n",
              " 'Median S&M % Revenue: 42%',\n",
              " 'Median R&D % Revenue: 26%',\n",
              " 'Median G&A % Revenue: 17%']"
            ]
          },
          "metadata": {},
          "execution_count": 13
        }
      ]
    },
    {
      "cell_type": "code",
      "source": [
        "Title"
      ],
      "metadata": {
        "colab": {
          "base_uri": "https://localhost:8080/"
        },
        "id": "Z36sy2EEivA3",
        "outputId": "5b863ba9-5815-498f-96f5-117648e6479a"
      },
      "execution_count": 14,
      "outputs": [
        {
          "output_type": "execute_result",
          "data": {
            "text/plain": [
              "['Clouded Judgement 11.10.23 - OpenAI Updates + Datadog Gives the All-Clear?',\n",
              " 'Scatter Plot of EV / NTM Rev Multiple vs NTM Rev Growth']"
            ]
          },
          "metadata": {},
          "execution_count": 14
        }
      ]
    },
    {
      "cell_type": "code",
      "source": [
        "NarrativeText"
      ],
      "metadata": {
        "colab": {
          "base_uri": "https://localhost:8080/"
        },
        "id": "J6PV88fmiqQd",
        "outputId": "d785305b-ca53-4be7-a2a9-e72bc6b48780"
      },
      "execution_count": 15,
      "outputs": [
        {
          "output_type": "execute_result",
          "data": {
            "text/plain": [
              "['JAMIN BALL',\n",
              " 'NOV 10, 2023',\n",
              " '35',\n",
              " 'Every week I’ll provide updates on the latest trends in cloud soware companies. Follow along to stay up to date!',\n",
              " 'OpenAI had their big developer day this week, and I wanted to call out two key announcements (and trends): increasing context windows and decreasing costs.',\n",
              " 'When I think about the monetization of AI (and which “layers” monetize rst) I’ve always thought it would follow the below order, with each layer lagging the one that comes before it.',\n",
              " 'Share',\n",
              " 'We’ve clearly well underway of the rst 3 layers monetizing. Just starting the fourth layer, with the h layer showing up in some pockets, but not really widespread monetization (and I should clarify - scalable monetization). The caveat is important - I’ve heard of a well known company that had an oshore team handling lots of manual customer work (ie responses). And this “product” had a ~50% gross margin. When they started using large language models from OpenAI, the gross margin on the same product went to -100%! (yes, that’s negative 100%). While the product was “monetizing” I wouldn’t count it as scalable monetization.',\n",
              " 'We haven’t quite yet cracked AI used in production in widespread fashion. There are many limiters here - data security and compliance are big ones. But even more important right now is cost. At the end of the day, these large language models are quite expensive! And as a vendor using them, you can either pass through the costs to your end customer (to maintain your gross margins), or eat the costs and lower your gross margins (because the customer isn’t willing to pay the incremental cost for incremental functionality brought about by AI), and hope the model providers lower their costs in the future. It seems like every company has been experimenting. Saying things like “just build out all the AI functionality now and then we’ll evaluate if customers will pay for it.” Now that we’re getting through this initial wave of experimentation and AI buildout, there’s quite a bit of sticker shock when the OpenAI bills come due! People are looking to build in model portability to enable them to switch to lower cost models (or open',\n",
              " 'This brings me back to the initial point - the two announcements from OpenAI I want to highlight here.',\n",
              " 'The cost decrease is very meaningful - it’s lowers the barrier to experiment with AI, and also lowers the barrier for these AI functionalities to be pushed into production (because vendors don’t have to increase price nearly as much). Also - As Moin pointed out on Twitter / X, as context windows increase the need for task / domain-specic models (or ne-tuned models) decreases. The counter argument to this is will we be able to nd enough high quality long context training data. Either way - it’s clear these models are becoming cheaper and more eective, which is an exciting future for AI! I think we’re about to see an explosion of good business model AI applications in the near future. 2024 will be the year of AI applications!',\n",
              " 'This week soware stocks shot up on Tuesday, largely a result of Datadog’s quarterly earnings. Datadog in particular was up ~30%. So what happened? They made a number of comments about',\n",
              " 'Datadog was one of the rst companies to really highlight an improving macro environment. And even more important, they called out a great month of October (rst month of Q4 for them). So how do we contrast their positive commentary, with largely neutral commentary from the rest of the soware universe? Most likely Datadog is seeing trends more unique to their own business. As the market puts a greater emphasis on bundled platforms today vs point solutions, they appear to be an incremental winner of market share. Best of breed platforms (with more of a usage based model) will recover rst (in terms of revenue growth recovery). Datadog appears to be in that bucket and recovering rst. This doesn’t mean the rest of the soware universe will follow suite. There will be many “pretenders” who never recover and nd themselves bundled',\n",
              " 'starting to turn a corner. So while the rest of the soware universe may not be at that corner today, we’re starting to see the light at the end of the tunnel.',\n",
              " 'SaaS businesses are generally valued on a multiple of their revenue - in most cases the projected revenue for the next 12 months. Revenue multiples are a shorthand valuation framework. Given most soware companies are not protable, or not generating meaningful FCF, it’s the only metric to compare the entire industry against. Even a DCF is riddled with long term assumptions. The promise of SaaS is that growth in the early years leads to prots in the mature years. Multiples shown below are calculated by taking the Enterprise Value (market cap + debt - cash) / NTM revenue.',\n",
              " 'Bucketed by Growth. In the buckets below I consider high growth >30% projected NTM growth,',\n",
              " 'The below chart shows the EV / NTM revenue multiple divided by NTM consensus growth expectations. So a company trading at 20x NTM revenue that is projected to grow 100% would be trading at 0.2x. The goal of this graph is to show how relatively cheap / expensive each stock is',\n",
              " 'The line chart shows the median of all companies with a FCF multiple >0x and <100x. I created',\n",
              " 'How correlated is growth to valuation multiple?',\n",
              " 'Rule of 40 shows rev growth + FCF margin (both LTM and NTM for growth + margins). FCF calculated as Cash Flow from Operations - Capital Expenditures',\n",
              " 'GM Adjusted Payback is calculated as: (Previous Q S&M) / (Net New ARR in Q x Gross Margin) x 12 . It shows the number of months it takes for a SaaS business to payback their fully burdened CAC on a gross prot basis. Most public companies don’t report net new ARR, so I’m taking an implied ARR metric (quarterly subscription revenue x 4). Net new ARR is simply the ARR of the current quarter, minus the ARR of the previous quarter. Companies that do not disclose',\n",
              " 'The information presented in this newsletter is the opinion of the author and does not necessarily reect the view of any other person or entity, including Altimeter Capital Management, LP (\"Altimeter\"). The information provided is believed to be from reliable sources but no liability is accepted for any inaccuracies. This is for information purposes and should not be construed as an investment recommendation. Past performance is no guarantee of future performance. Altimeter is an investment adviser registered with the U.S. Securities and',\n",
              " 'This post and the information presented are intended for informational purposes only. The views expressed herein are the author’s alone and do not constitute an oer to sell, or a recommendation to purchase, or a solicitation of an oer to buy, any security, nor a recommendation for any investment product or service. While certain information contained herein has been obtained from sources believed to be reliable, neither the author nor any of his employers or their aliates have independently veried this information, and its accuracy and completeness cannot be guaranteed. Accordingly, no representation or warranty, express or',\n",
              " 'implied, is made as to, and no reliance should be placed on, the fairness, accuracy, timeliness or completeness of this information. The author and all employers and their aliated persons assume no liability for this information and no obligation to update the information or analysis contained herein in the future.',\n",
              " 'Good stuff as always. Your point about the reduced costs per token is interesting and hopefully allows companies to experiment with AI more in their workflows',\n",
              " 'LIKE REPLY SHARE',\n",
              " '© 2023 Jamin Ball ∙ Privacy ∙ Terms ∙ Collection notice Substack is the home for great writing']"
            ]
          },
          "metadata": {},
          "execution_count": 15
        }
      ]
    },
    {
      "cell_type": "code",
      "source": [
        "NarrativeText[0]"
      ],
      "metadata": {
        "colab": {
          "base_uri": "https://localhost:8080/",
          "height": 35
        },
        "id": "NXOnlKaii0cE",
        "outputId": "e30178fe-aced-45f5-bc1f-b0a4771f6e1a"
      },
      "execution_count": 16,
      "outputs": [
        {
          "output_type": "execute_result",
          "data": {
            "text/plain": [
              "'JAMIN BALL'"
            ],
            "application/vnd.google.colaboratory.intrinsic+json": {
              "type": "string"
            }
          },
          "metadata": {},
          "execution_count": 16
        }
      ]
    },
    {
      "cell_type": "code",
      "source": [
        "NarrativeText[1]"
      ],
      "metadata": {
        "colab": {
          "base_uri": "https://localhost:8080/",
          "height": 35
        },
        "id": "e8LcOVIfi09p",
        "outputId": "0276d5de-0cad-43a7-9e3d-898af45b2ee1"
      },
      "execution_count": 17,
      "outputs": [
        {
          "output_type": "execute_result",
          "data": {
            "text/plain": [
              "'NOV 10, 2023'"
            ],
            "application/vnd.google.colaboratory.intrinsic+json": {
              "type": "string"
            }
          },
          "metadata": {},
          "execution_count": 17
        }
      ]
    },
    {
      "cell_type": "code",
      "source": [
        "Text"
      ],
      "metadata": {
        "colab": {
          "base_uri": "https://localhost:8080/"
        },
        "id": "pN_zs1UXi1_c",
        "outputId": "11d9ad2a-190a-48b6-c586-454b6a744819"
      },
      "execution_count": 18,
      "outputs": [
        {
          "output_type": "execute_result",
          "data": {
            "text/plain": [
              "['2',\n",
              " 'OpenAI Updates',\n",
              " '2. Model providers (OpenAI, Anthropic, etc as companies start building out AI).',\n",
              " 'source).',\n",
              " 'cheaper than GPT 4.',\n",
              " 'Datadog Gives Soware the All Clear?',\n",
              " 'optimizations easing up, and the worst being behind us. Here are some quotes:',\n",
              " \"than they've been for the past year.”\",\n",
              " 'existing customers improving in Q3 relative to Q2.”',\n",
              " 'stable throughout Q3.”',\n",
              " 'into oblivion. However, the positive commentary from Datadog is the rst sign that we’re',\n",
              " 'Quarterly Reports Summary',\n",
              " 'Top 10 EV / NTM Revenue Multiples',\n",
              " 'Top 10 Weekly Share Price Movement',\n",
              " 'Update on Multiples',\n",
              " 'Overall Stats:',\n",
              " 'mid growth 15%-30% and low growth <15%',\n",
              " 'EV / NTM Rev / NTM Growth',\n",
              " 'relative to their growth expectations',\n",
              " 'EV / NTM FCF',\n",
              " 'this subset to show companies where FCF is a relevant valuation metric.',\n",
              " 'Companies with negative NTM FCF are not listed on the chart',\n",
              " 'Scatter Plot of EV / NTM Rev Multiple vs NTM Rev Growth',\n",
              " 'How correlated is growth to valuation multiple?',\n",
              " 'Operating Metrics',\n",
              " 'Median NTM growth rate: 15%',\n",
              " 'Median LTM growth rate: 21%',\n",
              " 'Median Gross Margin: 75%',\n",
              " 'Median Operating Margin (18%)',\n",
              " 'Median FCF Margin: 8%',\n",
              " 'Median Net Retention: 114%',\n",
              " 'Comps Output',\n",
              " 'subscription rev have been le out of the analysis and are listed as NA.',\n",
              " 'Sources used in this post include Bloomberg, Pitchbook and company lings',\n",
              " 'Exchange Commission. Registration does not imply a certain level of skill or training.',\n",
              " '|',\n",
              " 'Type your email...',\n",
              " 'Subscribe',\n",
              " '@? DBD',\n",
              " '35 Likes · 3 Restacks',\n",
              " '2 Comments',\n",
              " 'Write a comment...',\n",
              " 'Stefan Waldhauser Writes High Growth Investing Nov 12',\n",
              " 'Thank you for your interesting thoughts regarding the monetization layers of AI. Really inspiring!',\n",
              " 'Q',\n",
              " 'LIKE',\n",
              " '©',\n",
              " 'REPLY',\n",
              " '(ft)',\n",
              " 'SHARE',\n",
              " 'Matthew Harris Writes Agora Nov 10']"
            ]
          },
          "metadata": {},
          "execution_count": 18
        }
      ]
    },
    {
      "cell_type": "code",
      "source": [
        "Table"
      ],
      "metadata": {
        "colab": {
          "base_uri": "https://localhost:8080/"
        },
        "id": "jZkyQq_ei9hW",
        "outputId": "802e67a4-a54f-4ad0-84a6-72f4eced0204"
      },
      "execution_count": 19,
      "outputs": [
        {
          "output_type": "execute_result",
          "data": {
            "text/plain": [
              "['Type your email... Subscribe']"
            ]
          },
          "metadata": {},
          "execution_count": 19
        }
      ]
    },
    {
      "cell_type": "code",
      "source": [
        "Image"
      ],
      "metadata": {
        "colab": {
          "base_uri": "https://localhost:8080/"
        },
        "id": "Xx2EUiqQi_DI",
        "outputId": "40d9592e-3c34-4c7a-a004-33a596d62a88"
      },
      "execution_count": 20,
      "outputs": [
        {
          "output_type": "execute_result",
          "data": {
            "text/plain": [
              "['',\n",
              " 'Actual On24 $39.2M Squarespace $257.1M Jamf $142.6M Kaltura $43.5M CS Disco $34.9M 2U $229.7M Olo $57.8M Alteryx $232.0M RingCentral $558.2M Klaviyo $175.8M Datadog $547.5M Amplitude $70.6M Hubspot $557.6M BigCommerce $78.0M Twilio $1033.6M Wix.com $393.8M Reported Revenue Consensus $38.0M $251.8M $140.0M $43.1M $34.1M $223.4M $56.3M $210.3M $554.0M $167.4M $523.2M $70.0M $533.0M $78.0M $986.9M $389.7M 3.2% 2.1% 1.9% 1.0% 2.3% 2.8% 27% 10.3% 0.8% 5.0% 46% 0.9% 46% 0.1% 4T% 1.0% Guidance $37.3M $262.5M $148.5M $41.6M $35.0M NA $58.8M $337.0M $570.0M $196.0M $566.0M $71.6M $557.0M $81.8M $1035.0M $402.5M Next Quarter Rev Consensus $35.4M $256.0M $149.1M $42.2M $38.8M $300.0M $56.9M $337.8M $570.0M $195.1M $541.0M $70.3M $555.8M $82.0M $1029.0M $399.2M 5.4% 2.5% (0.4%) (1.4%) (9.8%) NA 3.3% (0.2%) 0.0% 0.5% 4.6% 1.8% 0.2% (0.2%) 0.6% 0.8%',\n",
              " 'EV/NTM EV/2024 EV/NTM NTMRev Gross Operating FCF % in Top 10 Company Rev Rev FCF Growth Margin Margin Margin Multiple LTM 1 Snowflake 15.5x 13.4x 55x 27% 66% (41%) 25% 100% 2 MongoDB 14.6x 12.9x 133x 17% 74% (18%) 3% 67% 3 Palantir 14.5x 13.9x 58x 19% 80% 2% 22% 47% 4 Cloudflare 13.4x 12.6x 153x 28% 76% (16%) 8% 100% 5 Datadog 13.1x 12.4x 52x 19% 80% (5%) 25% 99% 6 CrowdStrike 12.5x 11.1x 37x 31% 74% (6%) 30% 31% 7 Adobe 12.3x 11.9x 30x 12% 88% 34% 40% 26% 8 ServiceNow 12.2x 11.6x 38x 21% 79% 8% 28% 70% 9 Samsara 11.8x 10.5x 393x 31% 72% (34%) (3%) 72% 10 Zscaler 11.8x 10.5x 48x 27% 78% (14%) 21% 36% Overall Median = 50x. 48x 33.7 18% = 75% = (16%) 8% Clouded Judgement @jaminball ALTIMETER',\n",
              " 'Company Datadog Alteryx Digital Ocean Couchbase MongoDB Sprout Social Qualys Cloudflare Snowflake 10 Dynatrace OoOOnN Da WN = 7 Day Share Price A 26% 19% 15% 13% 11% 11% 10% 10% 10% 8% Clouded Judgement 30 Day Share Price A 9% (2%) 1% (5%) 2% (7%) 3% (5%) (4%) 1% @jaminbal YTD Share Price A 36% (29%) (4%) 22% 86% (16%) 50% 38% 9% 29% Current Market Cap ($MM) $32,931 $2,597 $2,108 $759 $26,063 $2,642 $6,179 $20,878 $51,549 $14,528 1 ALTIMETER',\n",
              " 'EV / NTM Revenue Multiples 25.0x 6.0% 20.0x 5.0% . 4.6% 4.0% 15.0x 3.0% 10.0x 7.8K 7.0% 5.0x 5.0x 1.0% 0.0x 0.0% Jan-15 Aug-15 Mar-16 Oct-16 May-17 Dec-17 Jul-18 Feb-19 Sep-19 Apr-20 Nov-20 Jun-21 Jan-22 Aug-22 Mar-23 Oct-23 Median == LT Pre Covid Average —— 10 Year Treasury Clouded Judgement @jaminball ALTIMETER',\n",
              " 'EV / NTM Revenue Multiples 90.0x 80.0x 70.0x 60.0x 50.0x 40.0x 30.0x 20.0x 14.5x 10.0x 5.0x 0.0x Jan-15 Aug-15 Mar-16 Oct-16 May-17 Dec-17 Jul-18 Feb-19 Sep-19 Apr-20 Nov-20 Jun-21 Jan-22 Aug-22 Mar-23 Oct-23 —== Median —=—=Top 5 Median Clouded Judgement @jaminball ALTIMETER',\n",
              " 'EV / NTM Revenue Multiples 45.0x 40.0x 35.0x 30.0x 25.0x 20.0x 15.0x 10.0x 11.8x 74x 3.9x 5.0x 0.0x Jan-15 Aug-15 Mar-16 Oct-16 May-17 Dec-17 Jul-18 Feb-19 Sep-19 Apr-20 Nov-20 Jun-21 Jan-22 Aug-22 Mar-23 Oct-23 == High Growth Median == Mid Growth Median —==Low Growth Median Clouded Judgement @jaminball ALTIMETER',\n",
              " 'EV / NTM Revenue 15x. 14x 13K 43x a ‘ax 12x x 6 6x O 6x 6x 6x x & TT ox & SS sx | sx Sx Sk Sx Median: 5.0x ax a x x ae aie x & | oxo x on a 2 5 gesgeegzes EELESzaES SPESF ESTES EESEE : € i 2253223223 BeqZErese ge BES g2ae8 88 ° i : gi7i *E 3 Sse: “a8 2 oR g fF 2 § 5 22 5 & g : Clouded Judgement @jaminball ALTIMETER',\n",
              " 'Median EV / NTM Revenue / NTM Growth Multiples 1.0x 6.0% 0.9x 4.6% 0.8x 5.0% 0.7x 4.0% 0.6x 0.5x 3.0% 0.4% 0.38x 2.0% 0.3x 0.28x 0.2x 1.0% 0.1x 0.0x 0.0% Jan-15 Aug-15 Mar-16 Oct-16 May-17 Dec-17 Jul-18 Feb-19 Sep-19 Apr-20 Nov-20 Jun-21 Jan-22 Aug-22 Mar-23 Oct-23 === Median EV / Rev / Growth ——=LT Average —— 10 Year Treasury Clouded Judgement @jaminball ALTIMETER',\n",
              " 'Growth Adjusted EV / NTM Revenue (EV / NTM Rev / NTM Growth) . 03x 0. 03x | 9.x | o.3x°b.x rape aes = 02 ax 0.2% SoPax Ol is ox fone. Sexgegerys B2eseseregsegs 84 SeRECSELSRESPEESESERS geSR2eRa eeae3e833 gecitesesesegs a3 sepe2s2 25222 E5255 22 sper sia. on EX 82ER° 28 BEES Es 2 ges 2 585 es geze Se azse sees aes Ee 82 g eo \"g 32 $83 6 g&* “3s 3 = gf ¢& 8S $B 5s 5 3 i s 38 5S Clouded Judgement @jaminball ALTIMETER',\n",
              " 'EV / NTM FCF Multiples 70.0x 60.0x 50.0x 40.0x 40.1x 30.0x 29.8x 20.0x 10.0x -Ox 1/1/15 1/1/16 1/1/17 1/1/18 1/1/19 1/1/20 1/1/21 1/1/22 1/1/23 === FCF Positive & <100x Multiple Median ——=LT Average Clouded Judgement @jaminball ALTIMETER',\n",
              " 'Ev / NTM FCF s00r gay 350x 300x 250x 150% 133% 102«88x 100x ees88: 335 oa 30x 29x 23x 23x ae % « PRED R RRR RRR RR PIII SSP LF EH SSF WS LISI SEES CFSE EM Ss 3 os go Sa 3 oh VS SEE LES EES LS FESS s SES So ae EF FS KFS é FX OY A se £ Ss = is oe es & SF ESE KP FES ES SE SKS ne SFP ICE pK FESS SPP HES LE MS s FH PS ‘e x ESSE MG ew fee ef Clouded Judgement @jaminball ALTIMETER',\n",
              " 'NTM Rev Growth vs NTM Rev Multiple 18x 16x Mos e eeu 14x © 0006 12x 10x 8x &x 4x OBK@ sox ‘Docu 10 euw (5%) 0% 5% 10% 15% 20% Clouded Judgement @jaminball eu 25% @ snow @xnor © ser 30% 35% ALTIMETER',\n",
              " 'Snowllake MongoDB Cloudfiare Datadog CrowdStrike SeniceNow Samsara Zscaler Atlassian Qualys AppFolio Shopify GitLab Dynatrace Palo Alto Veeva HubSpot Autodesk Freshworks Valuation Market Cap Ev $51,549 $48,105 $26,063 $25,355 $39,755 $36,790 $20,878 $20,723 $32,931 $31,477 $45551 $43,206 $263,045 $259,625 $127,051 $125,244 $12,603 $11,985 $25,122 $24,232 $44,087 $43,123 $6,179 $5,750 $7,110 $6,963 $77,608 $73,812 $6,694 $5,755 $14,528 $13,903 $75,401 $72,234 $26,765 $22,955 $20,893 $20,164 $4,487 $4,067 $43,753 $44,126 $3,080 $2,376 $6,449 $6,067 $59,068 $55,658 $7,341 $6,991 $6,471 $5,551 $4,702 $4,709 $2,642 $2,540 $24,699 $26,321 $3,199 $3,168 $7,175 $6,633 $5,035 $3,901 Rev Multiple FCF Multiple LIM =NTM —-2024—S ss LTM_—sNTM 19.7x 15.5x 134x 77x 55x 17.1% 14.6x—12.9x 0 S56 1x 133 Wax 145x13.9x 78x 58x 17.1% 9 13.4x—12.6x 202k =—s«183x 15.7x13.1x Ss 12.4x—Ss«é 52x 164x12.5x 44x Sx 37x 13.7% 123x119 34 30x 148% 122 «46x 5x 38x 154x 0 11.8x 105k NM 393x 150x 14.8x = 10.5k 73x 48x 416x =10.0x 96x 46x 42x 10.6x 9.6x 9.3x 24x 29x 122% = 9.6x 91x 334K 51x 1x 84x 89x 135x 60x 15x 9.3x 81x NM 282x 10.7%x — 9.0x 8.7x 42x 39x 10.5x 8.8x 81x 27x 21x 103 = 88x 81x 23x 23x 9.8x 8.3x 7.9K 95x 62x 10.0x 82 7.3x NM NM 8.5x 7.7x 7.3x 20x 30x 87x 7.4x 6.8x NM NM 95x 7.4x 7.0x 125x 78x 8.3x 7.1x 6.6x 36x 29x 7% 71x 67x 33x 61x 8.9x 6.9x 6.1x 43x 38x 7.8x 6.7x 6.4x 111K 59x 8.x 6.4x 60x 218x 85x 6.8x 6.3x 6.0x 33x 26x 7.1% 6.2x 57x 559x 56x 7.4x 6.2 59x 23x 74x 6.8x 5.8x 5.6x 73x 40x Rev Growth LT™ NTM 49% 27% 37% 17% 16% 19% 35% 28% 31% 19% 44% 31% 10% 12% 22% 21% 46% 31% 48% 27% 24% 16% 15% 11% 29% 27% 27% 18% 51% 23% 25% 19% 25% 19% 12% 17% 26% 18% 37% 22% 10% 10% 3% 17% 57% 28% 18% 16% 11% 9% 52% 29% 18% 15% 30% 29% 26% 8% 31% 15% 34% 21% 21% 18% Revenue | Margin Margin L™ Gross $2,444 66% $1,487 74% $2,125 80% $1,209 76% $2,008 80% $2,642 74% $18.886 88% $8,474 79% $780 72% $1,617 78% $3,705 82% $541 80% $573 60% $6,651 49% $502 89% $1,297 81% $6,893 72% $2,232 71% $2,058 83% $409 68% $5,212 90% $274 64% $585 75% $6,716 74% $905 51% $625 89% $607 75% $310 77% $3,843 79% $445 59% $892 81% $569 82% Operating FCF Margin LTM (41%) (18%) 2% (16%) (6%) (6%) 34% 8% (24%) (14%) (9%) 28% (8%) (6%) (43%) 9% 6% 18% (6%) (37%) (106%) (4%) (1%) (17%) (12%) (16%) (21%) (1%) (15%) (28%) (33%) 25% 3% 22% 8% 25% 30% 40% 28% (3%) NIM 26% 10% 25% 9% 25% 31% 41% 23% 24% 19% 15% 37% 13% (3%) 25% (17%) 24% 11% PRRRRE2 Rule of 40 LT™ NTM 75% 53% 40% 27% 38% 44% 44% 37% 56% 44% 74% 62% 50% 53% 51% 53% 43% 33% 69% 51% 49% 40% 61% 43% 33% 46% 35% 34% 51% 26% 50% 42% 63% 58% 55% 54% 37% 31% 30% 19% 52% 36% (48%) 0% 65% 37% 41% 40% 14% 20% 73% 46% 25% 27% 34% 36% 47% 32% 33% 26% 38% 29% 30% 33% LTM Operating Expenses % Rev SRTEPTIFFFRRZIIIPISSS & # 3 PFSF93 24% 24% 13% 7% 10% 6% 16% 11% 17% 27% 12% 6% 11% 11% 23% 11% 28% 15% 10% 19% 14% 18% 24% 11% 18% 21% 28% 26% 16% 16% 16% 20% 20% 11% 20% 38% Net GM Adj. Expansion Payback Current 142% 29Months $156 120% 13 Months $365 NA NA $18 116% 21 Months $62 120% 14 Months $100 120% 23 Months $191 NA NA $578 NA 24 Months $620 115% 26 Months $24 121% 25 Months $171 NA 5 Months $174 NA NA $168 NA 8 Months $199 NA NA $60 124% 27 Months $43 114% 37 Months $49 NA NA $243 NA 7 Months $167 103% 34 Months $415 120% 20 Months $45 105% NA $205 NA 62 Months $26 119% 25 Months $25 NA 22Months $225 NA NA $90 110% 27 Months $136 112% 43 Months $87 NA 56 Months S47 116% 7 Months $147 NA 60 Months $28 NA 24 Months $50 106% 37 Months $17 Share Price Performance % Week % 30 Days 10% (4%) 11% 2% 2% 3% 10% (8%) 26% 9% 4% 4% 3% 8% 3% 1% 4% (6%) 7% (1%) (6%) (17%) 10% 3% 6% 3% 1% 10% 4% (9%) 8% 1% @%) (6%) (12%) (22%) (2%) (11%) 5% (4%) 3% (4%) (4%) (2%) (18%) (28%) 6% 2% (0%) (2%) 6% (9%) (0%) (14%) 11% 7%) (0%) 0% (2%) (5%) (1%) (27%) (7%) (9%) YTD 86% 185% 38% 36% 81% 72% 60% 90% 53% 33% 50% 89% 74% (5%) 74% 3% 66% 10% 133% (17%) 35% 43% 11% 4% (16%) 70% 7% 6% 16%',\n",
              " 'Confluent Smartsheet Tenable Unity Appian Digital Ocean Zoominfo Fived Ona Sprinkir Hashicorp Bill.com Squarespace Fastly Box Dropbox PagerDuty Jam{ ay Couchbase Alteryx Amplitude Wix.com Zoom Valuation Market Cap EV $4,185 $3,932 $204,340 $205,792 $2,712 $2234 $8,376 $8,140 $9,402 $7,636 $4,521 $3,814 $7,250 $6,885 $10,104 $9,649 $5,200 $4,442 $3,186 $3,213 $5,361 $4,869 $4,342 $4,064 $9,592 $11,044 $2,608 $2,717 $2,108 $3,383 $4,907 $5.713 $4,444 $4,539 $10,877 $10,466 $3,846 $3,250 $3,800 $2,571 $5,980 $5,245 $3,862 $4,339 $2,144 $2,248 $3,644 $4,225 $9,076 $10,028 $1,932 $1,730 $2,018 $2,157 $1,959 $2,214 $759 $600 $2,597 $3.248 $1,220 $901 $4,953 $4,922 $18,253 $12,310 Rev Multiple FCF Multiple LIM —soONTM=—s2024 = LTM_—sNTM 6.5x 5.8x 5.4x NM NM 6.x 5.6x 53x 27x 21x 6.8x 5.6x 5.3x 48x 33x 6.6x 5.6x 54x 31x 27x 6.7x 55x 5.1K 45x 29% 7.3x 55x 48x NM NU 6.2x 5.3x 4.9x 86x 41x 5.9x 5.3x 5.2 32x 28x 6.1x 5.0x 47x NM 727x 5.6x 5.0x 4.9x 38x 28x 5.6x 47x 4.2x 55x 34x 5.3x 4.7% 4.5x 4x 25x 61x 4% 4.x NM 30x 5.2% 4.6x 44x NM NI 5.0x 45x 4.4x 30x 21x 47x 45x 45x 44x 44x 5.x 48x 4.3x 50x 47x 5.1x 44x 4.1% 42x 2% 4.8x 4.2 3% 127 36x 47x 4.x 3.8x NM 88x 4.6x 4.2 4.0x 27x 28x 45x 4.0x 3.x 22x 47x 46x 4.0x 3.8x NM NIM 41x 3.9% 38x 14x 13x 44x 3.x 3.x 13x 44x 43x 3.8x 35x 40x 23x 4.0x 3.x 3.3x 40x 20x 3.6x 33x 3.2x 46x 38x 37x 3.x 3.0x NM NM 3.5x 3.2 3.0x NM 43x 3.3x 3.4% 30x 257 43x 3.3x 2.9% 28x 67x 16x 2.8x 27% 2.6x 41x x Rev Growth LIM NIM 30% 12% 13% 11% 25% 22% 34% 18% 15% 21% 73% 33% 21% 17% 26% 12% 36% 21% 15% 12% 32% 20% 19% 13% 48% 25% 18% 12% 27% 10% 20% 3% 18% 15% 29% 14% 21% 15% 38% 13% 50% 11% 15% 1% 19% 16% 8% 5% 8% 3% 25% 12% 19% 16% 11% 10% 17% 13% 26% 11% 22% 8% 11% 12% 4% 2% Revenue _ Margin Margin LT™ Gross $607 90% $33,071 75% $329 78% $1,239 69% $1,148 84% $524 68% $1,113 73% $1,630 84% $732 69% $574 75% $867 79% $770 77% $1,808 68% $526 73% $675 60% $1,225 85% $880 53% $2,065 72% $674 75% $542 81% $1,134 82% $970 82% $488 52% $1,020 75% $2,466 81% $406 82% $540 77% $609 47% $164 86% $920 86% $270 69% $1,513 65% $4,464 75% Operating FCF Margin LT™™ (56%) 13% (26%) 15% (21%) (79%) (15%) 28% (65%) 3% (18%) (8%) (53%) (25%) 2% 21% (11%) (31%) (1%) (54%) (23%) 40% (41%) 5% 14% (25%) (22%) (16%) (47%) (27%) (39%) (6%) 3% (14%) 23% 14% 21% 15% (26%) 7% 19% (22%) 15% 10% 16% (7%) (24%) 17% 33% 10% 12% (10%) 17% (10%) 11% 10% 8% (23%) (7%) 1% 26% NTM. (4%) 27% 17% 21% 18% (3%) 12% 19% 1% 18% 13% 19% 15% (8%) 10% 16% 11% 5% 15% 24% (5%) 36% 16% 18% (10%) 18% Rule of 40 LIM___NTM _ 16% 8% 36% 37% 39% 38% 55% 30% 30% 30% 47% 30% 28% 29% 45% 30% 14% 21% 20% 30% 42% 33% 35% 32% 41% 40% (6%) 4% 43% 32% 53% 36% 29% 24% 41% 30% 25% 26% 28% 18% 67% 26% 35% 35% 8% 11% 38% 35% 38% 39% 35% 29% 30% 33% 18% 18% (6%) 3% 19% 18% 23% 15% 16% 29% 30% 32% LTM Operating Expenses % Rev R&D S&M 69% 39% 44% 58% 70% 46% 25% 69% 44% 56% 50% 40% 47% 12% 34% 33% 52% 49% SSRRRFES 74% $338 52% 15% 41% 14% 27% 41% 28% 11% 46% 19% 26% 30% 16% 18% 31% 13% 24% 31% 24% 34% 24% 23% 37% 25% 34% 19% GBA 24% 8% 18% 15% 20% 36% 13% 17% 19% 15% 14% 22% 21% 25% 13% 13% 21% 14% 25% 26% 14% 23% 13% 25% 20% 17% 23% 22% 21% 11% 15% 33% 9% 26% 12% 32% 38% 19% 7% 46% 14% 22% 18% 26% a 14% 15% 23% 33% 8% 31% 27% 11% 27% 19% 14% 29% 17% 12% 21% 27% 31% 15% 31% Net GM Adj. SBC Expansion Payback — Current 105% 31 Months $19 NA 34 Months $210 119% 32Months $26 NA NA $149 121% 39 Months $17 115% 31 Months $15 113% 36 Months $74 NA NA $168 130% 42Months $17 105% 36 Months $52 121% 28Months $40 NA 58 Months $37 106% NA $25 117% 25Months $36 96% 31 Months $25 NA 62 Months $13 NA 64 Months $61 115% 27 Months $66 120% 61 Months $14 124% 62Months $20 111% 77 Months $56 NA NA $28 114% §5Months $16 103% 37 Months $25 NA 72 Months $26 114% 37 Months $21 108% 45 Months $16 NA 360 Months $33 115% 48 Months $16 119% 77 Months $36 99% 122Months $10 NA NA $87 109% 50Months $61 Share Price Performance % Week % 30 Days (1%) 6% 1% 2% (2%) 7% (13%) (26%) 0% (3%) 1% (10%) 4% (9%) 3% (39%) 4% (46%) 2% (6%) 2% (8%) 5% (17%) (3%) (16%) (15%) (17%) 15% 1% (1%) (27%) 8% (6%) (2%) (22%) 2% (1%) 2% (12%) (37%) (51%) (1%) (7%) (0%) (0%) 1% (1%) (1%) (6%) 1% (3%) (1%) (7%) 1% 2% 13% (5%) 19% (2%) 0% (7%) 6% (1%) (1%) (10%) YTD 38% 58% 21% (23%) 31% 5% 43% (46%) (24%) (23%) (3%) (12%) 9% (4%) (10%) (3%) 74% (49%) 28% 100% (19%) 17% (22%) (25%) 24% (29%) (15%) 13% (10%)',\n",
              " 'Valuation Rev Multiple FCF Multiple Rev Growth LT™ Gross Operating FCF Margin Rule of 40 LTM Operating Expenses % Rev Net GM Adj. Share Price Performance Market Cap EV Li™™ NTM 2024 LIM NIM LIM NTM Revenue | Margin Margin Lim NIM LIM NIM S&M R&D G&A SBC Expansion Payback Current % Week % 30Days YTD DocuSign $8,136 $7.571 2.9% 27x 2.6x 14x 12x 14% 6% $2,654 79% 1% 21% 22% 34% 28% 45% 19% 15% 22% 102% 30 Months $40 0% (5%) (28%) Zuora $1,085 $941 2.3x 2.1% 2.0x NM 22x 12% 9% $415 63% (23%) (3%) 9% 9% 18% 42% 25% 20% 23% 107% § 74Months $8 4% (3%) 21% BigCommerce $639 $692 23x 24x 2.0x NM 48x 10% 13% $298 75% (29%) (22%) 4% (12%) 18% 47% 30% 24% 15% NA NM $s (10%) (16%) (4%) Walkide $807 $522 2.0x 1.9% 18x NM 30x 18% 8% $260 81% (35%) (9%) 6% 9% 14% 67% 22% 27% 21% 106% 183 Months $9 (1%) 4% (18%) Twilio $10,138 $7,467 1.8x 18x 1.7% NM 23x 19% 2% $4,052 48% (18%) (6%) 8% 13% 10% 28% 25% 13% 18% 101% NM $56 7% (4%) 14% RingCentral $2,500 $4,103 1.9% 17x 1.7% 19x 12x 13% 9% $2,156 69% (12%) 10% 14% 23% 23% 50% 16% 14% 19% 99% 101 Months $27 (2%) (12%) (25%) Yext $776 $687 17x 17x 1.6x 17x 16x 1% 3% $403 76% (6%) 10% 11% 11% 13% 47% 17% 18% 13% 97% NM $6 3% (2%) (5%) Olo $739 $380 18x 18x 1.8x NM 16x 23% 16% $215 64% (27%) (8%) 10% 15% 25% 21% 35% 35% 24% 119% 23 Months $5 (19%) (24%) (28%) Kaltura $252 $235 14x 14x 1.3x NM NM 2% 0% $172 64% (26%) (12%) (4%) (10%) (4%) 33% 32% 5% 15% 101% NM $2 1% 2% 3% Domo $312 $377 1.2x 12x 1.2 NM NM 11% (0%) $318 76% (20%) (6%) (2%) 6% (2%) 30% 29% 12% 22% 99% NM SS] 2% (10%) (39%) CS Disco $354 $185 14x 1.2% 1.1% NM NM (1%) 18% $135 75% (59%) (38%) (11%) (39%) 7% 56% 45% 33% 20% NA 121 Months $6 (2%) (7%) (8%) 2uU $195 $1,104 1.2x 1.1x 1.1% NM 9x (5%) 13% $926 71% (4%) (3%) 12% (7%) 25% 40% 20% 15% 6% NA NA $2 5% 0% (62%) 8x8 $342 $738 1.0x 1.0x 1.0x 15x 10x 3% 1% $737 70% (3%) 7% 10% 10% 11% 35% 20% 11% 9% NA 297 Months $3 (10%) 13% (35%) Riskified $696 $257 0.x Osx O.7x NM 384x 18% 14% $284 52% (31%) (6%) 0% 12% 14% 31% 26% 26% 22% NA NA $4 3% (3%) (15%) Agora $322 $122 08x 08x 0.7x NM NM (8%) 2% $152 61% (53%) (135%) (14%) (143%) (13%) 30% 61% 25% 19% 108% NM $3 6% 16% (19%) On24 $273 $66 04x 0.5x O.4x NM 102x (13%) (15%) $171 71% (36%) (12%) 0% (25%) (14%) 55% 25% 27% 23% NA NM $7 8% 3% (24%) Sarai Agee 5 = 3) =e 39 rs =o 450 => OAD a5, 475) $8 % Ty DA aoe 0 a5 546 4435 A Months 75 > 769',\n",
              " '',\n",
              " '',\n",
              " '',\n",
              " '',\n",
              " '']"
            ]
          },
          "metadata": {},
          "execution_count": 20
        }
      ]
    },
    {
      "cell_type": "markdown",
      "source": [
        "## Load the Model and Embedding Model:"
      ],
      "metadata": {
        "id": "WAwsMc8ajDqT"
      }
    },
    {
      "cell_type": "code",
      "source": [
        "from google.colab import userdata\n",
        "GOOGLE_API_KEY=userdata.get('GOOGLE_API_KEY')"
      ],
      "metadata": {
        "id": "vw6OAhfWjBww"
      },
      "execution_count": null,
      "outputs": []
    }
  ]
}