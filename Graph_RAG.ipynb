{
  "nbformat": 4,
  "nbformat_minor": 0,
  "metadata": {
    "colab": {
      "provenance": [],
      "gpuType": "T4",
      "mount_file_id": "1xGpjlte8Uqvn6Ou2tfRwHgWHA6UMNazU",
      "authorship_tag": "ABX9TyNdnpobSMD5c8hsyQ6R8dR7",
      "include_colab_link": true
    },
    "kernelspec": {
      "name": "python3",
      "display_name": "Python 3"
    },
    "language_info": {
      "name": "python"
    },
    "accelerator": "GPU"
  },
  "cells": [
    {
      "cell_type": "markdown",
      "metadata": {
        "id": "view-in-github",
        "colab_type": "text"
      },
      "source": [
        "<a href=\"https://colab.research.google.com/github/Soumadeep555/RAG/blob/main/Graph_RAG.ipynb\" target=\"_parent\"><img src=\"https://colab.research.google.com/assets/colab-badge.svg\" alt=\"Open In Colab\"/></a>"
      ]
    },
    {
      "cell_type": "code",
      "execution_count": null,
      "metadata": {
        "id": "9aEPZdr2lwyp"
      },
      "outputs": [],
      "source": [
        "!pip install langchain-graph-retriever"
      ]
    },
    {
      "cell_type": "code",
      "source": [
        "!pip install graph_rag_example_helpers"
      ],
      "metadata": {
        "id": "RZo2aAlpnnIr"
      },
      "execution_count": null,
      "outputs": []
    },
    {
      "cell_type": "code",
      "source": [],
      "metadata": {
        "id": "u-Lw21WRnu3k"
      },
      "execution_count": null,
      "outputs": []
    }
  ]
}