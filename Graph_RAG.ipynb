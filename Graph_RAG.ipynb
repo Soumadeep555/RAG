{
  "nbformat": 4,
  "nbformat_minor": 0,
  "metadata": {
    "colab": {
      "provenance": [],
      "gpuType": "T4",
      "mount_file_id": "1xGpjlte8Uqvn6Ou2tfRwHgWHA6UMNazU",
      "authorship_tag": "ABX9TyNP50E1yAavEhA33KlJ/lnq",
      "include_colab_link": true
    },
    "kernelspec": {
      "name": "python3",
      "display_name": "Python 3"
    },
    "language_info": {
      "name": "python"
    },
    "accelerator": "GPU"
  },
  "cells": [
    {
      "cell_type": "markdown",
      "metadata": {
        "id": "view-in-github",
        "colab_type": "text"
      },
      "source": [
        "<a href=\"https://colab.research.google.com/github/Soumadeep555/RAG/blob/main/Graph_RAG.ipynb\" target=\"_parent\"><img src=\"https://colab.research.google.com/assets/colab-badge.svg\" alt=\"Open In Colab\"/></a>"
      ]
    },
    {
      "cell_type": "code",
      "execution_count": null,
      "metadata": {
        "id": "9aEPZdr2lwyp"
      },
      "outputs": [],
      "source": [
        "!pip install langchain-graph-retriever"
      ]
    },
    {
      "cell_type": "code",
      "source": [
        "!pip install graph_rag_example_helpers"
      ],
      "metadata": {
        "id": "RZo2aAlpnnIr"
      },
      "execution_count": null,
      "outputs": []
    },
    {
      "cell_type": "code",
      "source": [
        "!pip install langchain_openai"
      ],
      "metadata": {
        "id": "u-Lw21WRnu3k"
      },
      "execution_count": null,
      "outputs": []
    },
    {
      "cell_type": "code",
      "source": [
        "from graph_rag_example_helpers.datasets.animals import fetch_documents"
      ],
      "metadata": {
        "id": "OoYWvIAfoNIg"
      },
      "execution_count": null,
      "outputs": []
    },
    {
      "cell_type": "code",
      "source": [
        "animals = fetch_documents()\n",
        "animals"
      ],
      "metadata": {
        "id": "w4uFZs6CoiF5"
      },
      "execution_count": null,
      "outputs": []
    },
    {
      "cell_type": "code",
      "source": [
        "len(animals)"
      ],
      "metadata": {
        "id": "ENUuz3wLooMg"
      },
      "execution_count": null,
      "outputs": []
    },
    {
      "cell_type": "code",
      "source": [
        "animals[0]"
      ],
      "metadata": {
        "id": "r4loGO6WorVg"
      },
      "execution_count": null,
      "outputs": []
    },
    {
      "cell_type": "code",
      "source": [
        "animals[0].page_content"
      ],
      "metadata": {
        "id": "_Zo75M2_os6R"
      },
      "execution_count": null,
      "outputs": []
    },
    {
      "cell_type": "code",
      "source": [
        "animals[0].metadata"
      ],
      "metadata": {
        "id": "8L70Oq6qo1kN"
      },
      "execution_count": null,
      "outputs": []
    },
    {
      "cell_type": "code",
      "source": [
        "animals[1].page_content"
      ],
      "metadata": {
        "id": "hDqxtyRFo3WZ"
      },
      "execution_count": null,
      "outputs": []
    },
    {
      "cell_type": "code",
      "source": [
        "animals[1].metadata"
      ],
      "metadata": {
        "id": "RJFVH06zpSUC"
      },
      "execution_count": null,
      "outputs": []
    },
    {
      "cell_type": "code",
      "source": [
        "import getpass\n",
        "import os\n",
        "if not os.environ.get('OPENAI_API_KEY'):\n",
        "    os.environ['OPENAI_API_KEY'] = getpass.getpass('OpenAI API Key:')"
      ],
      "metadata": {
        "id": "AH1UtzDMpU4s"
      },
      "execution_count": null,
      "outputs": []
    },
    {
      "cell_type": "code",
      "source": [
        "from langchain_openai import OpenAIEmbeddings"
      ],
      "metadata": {
        "id": "i-8iiOfrp7eP"
      },
      "execution_count": null,
      "outputs": []
    },
    {
      "cell_type": "code",
      "source": [
        "embeddings = OpenAIEmbeddings(model='text-embedding-3-large')"
      ],
      "metadata": {
        "id": "NHHPt-xHqYFH"
      },
      "execution_count": null,
      "outputs": []
    },
    {
      "cell_type": "code",
      "source": [
        "embeddings.embed_query(animals[0].page_content)"
      ],
      "metadata": {
        "id": "GF6mdGR7qh3q"
      },
      "execution_count": null,
      "outputs": []
    },
    {
      "cell_type": "code",
      "source": [
        "from langchain_core.vectorstores import InMemoryVectorStore"
      ],
      "metadata": {
        "id": "1BZrduxVqvWX"
      },
      "execution_count": null,
      "outputs": []
    },
    {
      "cell_type": "code",
      "source": [
        "vector_store = InMemoryVectorStore.from_documents(\n",
        "    documents = animals,\n",
        "    embedding = embeddings\n",
        ")"
      ],
      "metadata": {
        "id": "n1sBKntKsw_K"
      },
      "execution_count": null,
      "outputs": []
    },
    {
      "cell_type": "code",
      "source": [
        "from graph_retriever.strategies import Eager\n",
        "from langchain_graph_retriever import GraphRetriever"
      ],
      "metadata": {
        "id": "wfmPYmfrtCoP"
      },
      "execution_count": null,
      "outputs": []
    },
    {
      "cell_type": "code",
      "source": [
        "traversal_retriever = GraphRetriever(\n",
        "    store = vector_store,\n",
        "    edges = [('habitat', 'habitat'), ('origin', 'origin')],\n",
        "    strategy = Eager(k=5,start_k=1,max_depth=2)\n",
        ")"
      ],
      "metadata": {
        "id": "MVLdT60utZIH"
      },
      "execution_count": null,
      "outputs": []
    },
    {
      "cell_type": "code",
      "source": [
        "traversal_retriever"
      ],
      "metadata": {
        "id": "dFFxn4XHvqv5"
      },
      "execution_count": null,
      "outputs": []
    },
    {
      "cell_type": "code",
      "source": [
        "results = traversal_retriever.invoke('What animal could be found near a anaconda?')"
      ],
      "metadata": {
        "id": "uw0hBGfjwLTF"
      },
      "execution_count": null,
      "outputs": []
    },
    {
      "cell_type": "code",
      "source": [
        "len(results)"
      ],
      "metadata": {
        "id": "cFs0HcjNwaLd"
      },
      "execution_count": null,
      "outputs": []
    },
    {
      "cell_type": "code",
      "source": [
        "results[0]"
      ],
      "metadata": {
        "id": "lcTkaogQwkTT"
      },
      "execution_count": null,
      "outputs": []
    },
    {
      "cell_type": "code",
      "source": [],
      "metadata": {
        "id": "vjPdykUEwmHg"
      },
      "execution_count": null,
      "outputs": []
    }
  ]
}